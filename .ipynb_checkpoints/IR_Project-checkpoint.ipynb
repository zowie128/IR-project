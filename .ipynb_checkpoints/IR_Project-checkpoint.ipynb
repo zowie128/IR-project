{
 "cells": [
  {
   "cell_type": "code",
   "execution_count": 13,
   "outputs": [
    {
     "name": "stdout",
     "output_type": "stream",
     "text": [
      "Requirement already satisfied: python-terrier in /Users/jasperbruin/anaconda3/envs/IR/lib/python3.10/site-packages (0.10.0)\r\n",
      "Requirement already satisfied: numpy in /Users/jasperbruin/anaconda3/envs/IR/lib/python3.10/site-packages (from python-terrier) (1.26.4)\r\n",
      "Requirement already satisfied: pandas in /Users/jasperbruin/anaconda3/envs/IR/lib/python3.10/site-packages (from python-terrier) (2.2.0)\r\n",
      "Requirement already satisfied: wget in /Users/jasperbruin/anaconda3/envs/IR/lib/python3.10/site-packages (from python-terrier) (3.2)\r\n",
      "Requirement already satisfied: tqdm in /Users/jasperbruin/anaconda3/envs/IR/lib/python3.10/site-packages (from python-terrier) (4.65.0)\r\n",
      "Requirement already satisfied: pyjnius>=1.4.2 in /Users/jasperbruin/anaconda3/envs/IR/lib/python3.10/site-packages (from python-terrier) (1.6.1)\r\n",
      "Requirement already satisfied: matchpy in /Users/jasperbruin/anaconda3/envs/IR/lib/python3.10/site-packages (from python-terrier) (0.5.5)\r\n",
      "Requirement already satisfied: scikit-learn in /Users/jasperbruin/anaconda3/envs/IR/lib/python3.10/site-packages (from python-terrier) (1.4.0)\r\n",
      "Requirement already satisfied: deprecated in /Users/jasperbruin/anaconda3/envs/IR/lib/python3.10/site-packages (from python-terrier) (1.2.14)\r\n",
      "Requirement already satisfied: chest in /Users/jasperbruin/anaconda3/envs/IR/lib/python3.10/site-packages (from python-terrier) (0.2.3)\r\n",
      "Requirement already satisfied: scipy in /Users/jasperbruin/anaconda3/envs/IR/lib/python3.10/site-packages (from python-terrier) (1.12.0)\r\n",
      "Requirement already satisfied: requests in /Users/jasperbruin/anaconda3/envs/IR/lib/python3.10/site-packages (from python-terrier) (2.31.0)\r\n",
      "Requirement already satisfied: joblib in /Users/jasperbruin/anaconda3/envs/IR/lib/python3.10/site-packages (from python-terrier) (1.3.2)\r\n",
      "Requirement already satisfied: nptyping==1.4.4 in /Users/jasperbruin/anaconda3/envs/IR/lib/python3.10/site-packages (from python-terrier) (1.4.4)\r\n",
      "Requirement already satisfied: more-itertools in /Users/jasperbruin/anaconda3/envs/IR/lib/python3.10/site-packages (from python-terrier) (10.2.0)\r\n",
      "Requirement already satisfied: ir-datasets>=0.3.2 in /Users/jasperbruin/anaconda3/envs/IR/lib/python3.10/site-packages (from python-terrier) (0.5.6)\r\n",
      "Requirement already satisfied: jinja2 in /Users/jasperbruin/anaconda3/envs/IR/lib/python3.10/site-packages (from python-terrier) (3.1.3)\r\n",
      "Requirement already satisfied: statsmodels in /Users/jasperbruin/anaconda3/envs/IR/lib/python3.10/site-packages (from python-terrier) (0.14.1)\r\n",
      "Requirement already satisfied: ir-measures>=0.3.1 in /Users/jasperbruin/anaconda3/envs/IR/lib/python3.10/site-packages (from python-terrier) (0.3.3)\r\n",
      "Requirement already satisfied: dill in /Users/jasperbruin/anaconda3/envs/IR/lib/python3.10/site-packages (from python-terrier) (0.3.8)\r\n",
      "Requirement already satisfied: pytrec-eval-terrier>=0.5.3 in /Users/jasperbruin/anaconda3/envs/IR/lib/python3.10/site-packages (from python-terrier) (0.5.6)\r\n",
      "Requirement already satisfied: typish>=1.7.0 in /Users/jasperbruin/anaconda3/envs/IR/lib/python3.10/site-packages (from nptyping==1.4.4->python-terrier) (1.9.3)\r\n",
      "Requirement already satisfied: beautifulsoup4>=4.4.1 in /Users/jasperbruin/anaconda3/envs/IR/lib/python3.10/site-packages (from ir-datasets>=0.3.2->python-terrier) (4.12.2)\r\n",
      "Requirement already satisfied: inscriptis>=2.2.0 in /Users/jasperbruin/anaconda3/envs/IR/lib/python3.10/site-packages (from ir-datasets>=0.3.2->python-terrier) (2.4.0.1)\r\n",
      "Requirement already satisfied: lxml>=4.5.2 in /Users/jasperbruin/anaconda3/envs/IR/lib/python3.10/site-packages (from ir-datasets>=0.3.2->python-terrier) (5.1.0)\r\n",
      "Requirement already satisfied: pyyaml>=5.3.1 in /Users/jasperbruin/anaconda3/envs/IR/lib/python3.10/site-packages (from ir-datasets>=0.3.2->python-terrier) (6.0.1)\r\n",
      "Requirement already satisfied: trec-car-tools>=2.5.4 in /Users/jasperbruin/anaconda3/envs/IR/lib/python3.10/site-packages (from ir-datasets>=0.3.2->python-terrier) (2.6)\r\n",
      "Requirement already satisfied: lz4>=3.1.10 in /Users/jasperbruin/anaconda3/envs/IR/lib/python3.10/site-packages (from ir-datasets>=0.3.2->python-terrier) (4.3.3)\r\n",
      "Requirement already satisfied: warc3-wet>=0.2.3 in /Users/jasperbruin/anaconda3/envs/IR/lib/python3.10/site-packages (from ir-datasets>=0.3.2->python-terrier) (0.2.3)\r\n",
      "Requirement already satisfied: warc3-wet-clueweb09>=0.2.5 in /Users/jasperbruin/anaconda3/envs/IR/lib/python3.10/site-packages (from ir-datasets>=0.3.2->python-terrier) (0.2.5)\r\n",
      "Requirement already satisfied: zlib-state>=0.1.3 in /Users/jasperbruin/anaconda3/envs/IR/lib/python3.10/site-packages (from ir-datasets>=0.3.2->python-terrier) (0.1.6)\r\n",
      "Requirement already satisfied: ijson>=3.1.3 in /Users/jasperbruin/anaconda3/envs/IR/lib/python3.10/site-packages (from ir-datasets>=0.3.2->python-terrier) (3.2.3)\r\n",
      "Requirement already satisfied: pyautocorpus>=0.1.1 in /Users/jasperbruin/anaconda3/envs/IR/lib/python3.10/site-packages (from ir-datasets>=0.3.2->python-terrier) (0.1.12)\r\n",
      "Requirement already satisfied: unlzw3>=0.2.1 in /Users/jasperbruin/anaconda3/envs/IR/lib/python3.10/site-packages (from ir-datasets>=0.3.2->python-terrier) (0.2.2)\r\n",
      "Requirement already satisfied: cwl-eval>=1.0.10 in /Users/jasperbruin/anaconda3/envs/IR/lib/python3.10/site-packages (from ir-measures>=0.3.1->python-terrier) (1.0.12)\r\n",
      "Requirement already satisfied: charset-normalizer<4,>=2 in /Users/jasperbruin/anaconda3/envs/IR/lib/python3.10/site-packages (from requests->python-terrier) (2.0.4)\r\n",
      "Requirement already satisfied: idna<4,>=2.5 in /Users/jasperbruin/anaconda3/envs/IR/lib/python3.10/site-packages (from requests->python-terrier) (3.4)\r\n",
      "Requirement already satisfied: urllib3<3,>=1.21.1 in /Users/jasperbruin/anaconda3/envs/IR/lib/python3.10/site-packages (from requests->python-terrier) (2.1.0)\r\n",
      "Requirement already satisfied: certifi>=2017.4.17 in /Users/jasperbruin/anaconda3/envs/IR/lib/python3.10/site-packages (from requests->python-terrier) (2024.2.2)\r\n",
      "Requirement already satisfied: heapdict in /Users/jasperbruin/anaconda3/envs/IR/lib/python3.10/site-packages (from chest->python-terrier) (1.0.1)\r\n",
      "Requirement already satisfied: wrapt<2,>=1.10 in /Users/jasperbruin/anaconda3/envs/IR/lib/python3.10/site-packages (from deprecated->python-terrier) (1.16.0)\r\n",
      "Requirement already satisfied: MarkupSafe>=2.0 in /Users/jasperbruin/anaconda3/envs/IR/lib/python3.10/site-packages (from jinja2->python-terrier) (2.1.3)\r\n",
      "Requirement already satisfied: multiset<3.0,>=2.0 in /Users/jasperbruin/anaconda3/envs/IR/lib/python3.10/site-packages (from matchpy->python-terrier) (2.1.1)\r\n",
      "Requirement already satisfied: python-dateutil>=2.8.2 in /Users/jasperbruin/anaconda3/envs/IR/lib/python3.10/site-packages (from pandas->python-terrier) (2.8.2)\r\n",
      "Requirement already satisfied: pytz>=2020.1 in /Users/jasperbruin/anaconda3/envs/IR/lib/python3.10/site-packages (from pandas->python-terrier) (2023.3.post1)\r\n",
      "Requirement already satisfied: tzdata>=2022.7 in /Users/jasperbruin/anaconda3/envs/IR/lib/python3.10/site-packages (from pandas->python-terrier) (2024.1)\r\n",
      "Requirement already satisfied: threadpoolctl>=2.0.0 in /Users/jasperbruin/anaconda3/envs/IR/lib/python3.10/site-packages (from scikit-learn->python-terrier) (3.3.0)\r\n",
      "Requirement already satisfied: patsy>=0.5.4 in /Users/jasperbruin/anaconda3/envs/IR/lib/python3.10/site-packages (from statsmodels->python-terrier) (0.5.6)\r\n",
      "Requirement already satisfied: packaging>=21.3 in /Users/jasperbruin/anaconda3/envs/IR/lib/python3.10/site-packages (from statsmodels->python-terrier) (23.1)\r\n",
      "Requirement already satisfied: soupsieve>1.2 in /Users/jasperbruin/anaconda3/envs/IR/lib/python3.10/site-packages (from beautifulsoup4>=4.4.1->ir-datasets>=0.3.2->python-terrier) (2.5)\r\n",
      "Requirement already satisfied: six in /Users/jasperbruin/anaconda3/envs/IR/lib/python3.10/site-packages (from patsy>=0.5.4->statsmodels->python-terrier) (1.16.0)\r\n",
      "Requirement already satisfied: cbor>=1.0.0 in /Users/jasperbruin/anaconda3/envs/IR/lib/python3.10/site-packages (from trec-car-tools>=2.5.4->ir-datasets>=0.3.2->python-terrier) (1.0.0)\r\n"
     ]
    }
   ],
   "source": [
    "!pip install python-terrier\n",
    "\n",
    "import random\n",
    "from pathlib import Path\n",
    "import pyterrier as pt\n",
    "if not pt.started():\n",
    "    pt.init()"
   ],
   "metadata": {
    "collapsed": false,
    "ExecuteTime": {
     "end_time": "2024-03-19T16:10:36.228330Z",
     "start_time": "2024-03-19T16:10:35.025194Z"
    }
   },
   "id": "8912d0f4a7342bce"
  },
  {
   "cell_type": "code",
   "execution_count": 14,
   "id": "21cbb033",
   "metadata": {
    "ExecuteTime": {
     "end_time": "2024-03-19T16:10:36.233772Z",
     "start_time": "2024-03-19T16:10:36.229504Z"
    }
   },
   "outputs": [],
   "source": [
    "# Example of loading a dataset from PyTerrier\n",
    "dataset = pt.get_dataset('irds:msmarco-passage/trec-dl-2020')"
   ]
  },
  {
   "cell_type": "code",
   "execution_count": 15,
   "id": "03cb029c",
   "metadata": {
    "ExecuteTime": {
     "end_time": "2024-03-19T16:10:36.250214Z",
     "start_time": "2024-03-19T16:10:36.234864Z"
    }
   },
   "outputs": [
    {
     "data": {
      "text/plain": "       qid                                       query\n0  1030303                          who is aziz hashim\n1  1037496                          who is rep scalise\n2  1043135            who killed nicholas ii of russia\n3  1045109                     who owns barnhart crane\n4  1049519  who said no one can make you feel inferior",
      "text/html": "<div>\n<style scoped>\n    .dataframe tbody tr th:only-of-type {\n        vertical-align: middle;\n    }\n\n    .dataframe tbody tr th {\n        vertical-align: top;\n    }\n\n    .dataframe thead th {\n        text-align: right;\n    }\n</style>\n<table border=\"1\" class=\"dataframe\">\n  <thead>\n    <tr style=\"text-align: right;\">\n      <th></th>\n      <th>qid</th>\n      <th>query</th>\n    </tr>\n  </thead>\n  <tbody>\n    <tr>\n      <th>0</th>\n      <td>1030303</td>\n      <td>who is aziz hashim</td>\n    </tr>\n    <tr>\n      <th>1</th>\n      <td>1037496</td>\n      <td>who is rep scalise</td>\n    </tr>\n    <tr>\n      <th>2</th>\n      <td>1043135</td>\n      <td>who killed nicholas ii of russia</td>\n    </tr>\n    <tr>\n      <th>3</th>\n      <td>1045109</td>\n      <td>who owns barnhart crane</td>\n    </tr>\n    <tr>\n      <th>4</th>\n      <td>1049519</td>\n      <td>who said no one can make you feel inferior</td>\n    </tr>\n  </tbody>\n</table>\n</div>"
     },
     "execution_count": 15,
     "metadata": {},
     "output_type": "execute_result"
    }
   ],
   "source": [
    "topics = dataset.get_topics()\n",
    "topics.head()"
   ]
  },
  {
   "cell_type": "code",
   "execution_count": 16,
   "metadata": {
    "ExecuteTime": {
     "end_time": "2024-03-19T16:10:36.302777Z",
     "start_time": "2024-03-19T16:10:36.246566Z"
    }
   },
   "outputs": [
    {
     "data": {
      "text/plain": "     qid    docno  label iteration\n0  23849  1020327      2         0\n1  23849  1034183      3         0\n2  23849  1120730      0         0\n3  23849  1139571      1         0\n4  23849  1143724      0         0",
      "text/html": "<div>\n<style scoped>\n    .dataframe tbody tr th:only-of-type {\n        vertical-align: middle;\n    }\n\n    .dataframe tbody tr th {\n        vertical-align: top;\n    }\n\n    .dataframe thead th {\n        text-align: right;\n    }\n</style>\n<table border=\"1\" class=\"dataframe\">\n  <thead>\n    <tr style=\"text-align: right;\">\n      <th></th>\n      <th>qid</th>\n      <th>docno</th>\n      <th>label</th>\n      <th>iteration</th>\n    </tr>\n  </thead>\n  <tbody>\n    <tr>\n      <th>0</th>\n      <td>23849</td>\n      <td>1020327</td>\n      <td>2</td>\n      <td>0</td>\n    </tr>\n    <tr>\n      <th>1</th>\n      <td>23849</td>\n      <td>1034183</td>\n      <td>3</td>\n      <td>0</td>\n    </tr>\n    <tr>\n      <th>2</th>\n      <td>23849</td>\n      <td>1120730</td>\n      <td>0</td>\n      <td>0</td>\n    </tr>\n    <tr>\n      <th>3</th>\n      <td>23849</td>\n      <td>1139571</td>\n      <td>1</td>\n      <td>0</td>\n    </tr>\n    <tr>\n      <th>4</th>\n      <td>23849</td>\n      <td>1143724</td>\n      <td>0</td>\n      <td>0</td>\n    </tr>\n  </tbody>\n</table>\n</div>"
     },
     "execution_count": 16,
     "metadata": {},
     "output_type": "execute_result"
    }
   ],
   "source": [
    "qrels = dataset.get_qrels()\n",
    "qrels.head()"
   ],
   "id": "819a40ff2dc7a5e9"
  },
  {
   "cell_type": "code",
   "execution_count": 17,
   "outputs": [
    {
     "name": "stderr",
     "output_type": "stream",
     "text": [
      "msmarco-passage/trec-dl-2020 documents:   0%|          | 0/8841823 [00:00<?, ?it/s]"
     ]
    },
    {
     "name": "stdout",
     "output_type": "stream",
     "text": [
      "{'text': 'The presence of communication amid scientific minds was equally important to the success of the Manhattan Project as scientific intellect was. The only cloud hanging over the impressive achievement of the atomic researchers and engineers is what their success truly meant; hundreds of thousands of innocent lives obliterated.', 'docno': '0'}\n"
     ]
    }
   ],
   "source": [
    "corpus_iter = dataset.get_corpus_iter()\n",
    "\n",
    "# Convert to an iterator\n",
    "corpus_iterator = iter(corpus_iter)\n",
    "\n",
    "first_doc = next(corpus_iterator)\n",
    "print(first_doc)"
   ],
   "metadata": {
    "collapsed": false,
    "ExecuteTime": {
     "end_time": "2024-03-19T16:10:36.303072Z",
     "start_time": "2024-03-19T16:10:36.272170Z"
    }
   },
   "id": "34c3b2002146429"
  },
  {
   "cell_type": "code",
   "execution_count": 18,
   "outputs": [],
   "source": [
    "import pandas as pd\n",
    "import spacy\n",
    "from spellchecker import SpellChecker\n",
    "import pyterrier as pt\n",
    "\n",
    "class AdvancedQueryRewriting(pt.Transformer):\n",
    "    def __init__(self):\n",
    "        # Load English tokenizer, tagger, parser, NER, and word vectors\n",
    "        self.nlp = spacy.load(\"en_core_web_sm\")\n",
    "        self.spellchecker = SpellChecker()\n",
    "        super().__init__()\n",
    "\n",
    "    def _correct_spelling(self, query: str) -> str:\n",
    "        corrected_query = []\n",
    "        for word in query.split():\n",
    "            # Ensure correction or original word is added, preventing None\n",
    "            corrected_word = self.spellchecker.correction(word) or word\n",
    "            corrected_query.append(corrected_word)\n",
    "        return \" \".join(corrected_query)\n",
    "\n",
    "    def _extract_keywords(self, query: str) -> str:\n",
    "        doc = self.nlp(query)\n",
    "        keywords = [token.text for token in doc if token.is_stop != True and token.is_punct != True]\n",
    "        # Ensure keywords list is not empty; return original query if it is\n",
    "        return \" \".join(keywords) if keywords else query\n",
    "\n",
    "    def _expand_synonyms(self, query: str) -> str:\n",
    "        doc = self.nlp(query)\n",
    "        expanded_query = []\n",
    "        for token in doc:\n",
    "            # Ensure lemma or original word is added, preventing None\n",
    "            expanded_word = token.lemma_ or token.text\n",
    "            expanded_query.append(expanded_word)\n",
    "        return \" \".join(expanded_query)\n",
    "\n",
    "    def transform(self, df: pd.DataFrame) -> pd.DataFrame:\n",
    "        df_new = df.copy()\n",
    "        df_new[\"original_query\"] = df_new[\"query\"].astype(str)\n",
    "        # Apply transformations with assurance that each step returns a string\n",
    "        df_new[\"query\"] = df_new[\"original_query\"].map(self._correct_spelling)\n",
    "        df_new[\"query\"] = df_new[\"query\"].map(self._extract_keywords)\n",
    "        # df_new[\"query\"] = df_new[\"query\"].map(self._expand_synonyms)\n",
    "        return df_new\n"
   ],
   "metadata": {
    "collapsed": false,
    "ExecuteTime": {
     "end_time": "2024-03-19T16:10:36.303144Z",
     "start_time": "2024-03-19T16:10:36.279347Z"
    }
   },
   "id": "6299227df0b7defc"
  },
  {
   "cell_type": "code",
   "execution_count": 19,
   "outputs": [],
   "source": [
    "# Instantiate the query rewriting transformer\n",
    "query_rewriter = AdvancedQueryRewriting()"
   ],
   "metadata": {
    "collapsed": false,
    "ExecuteTime": {
     "end_time": "2024-03-19T16:10:36.596669Z",
     "start_time": "2024-03-19T16:10:36.282312Z"
    }
   },
   "id": "a1bf3e0fca2a363e"
  },
  {
   "cell_type": "code",
   "execution_count": 20,
   "outputs": [],
   "source": [
    "# Transform the topics with the query rewriter\n",
    "rewritten_topics = query_rewriter.transform(topics)"
   ],
   "metadata": {
    "collapsed": false,
    "ExecuteTime": {
     "end_time": "2024-03-19T16:10:48.380378Z",
     "start_time": "2024-03-19T16:10:36.622228Z"
    }
   },
   "id": "9b35d04a857d677d"
  },
  {
   "cell_type": "code",
   "execution_count": 21,
   "outputs": [
    {
     "name": "stdout",
     "output_type": "stream",
     "text": [
      "Original: who said no one can make you feel inferior\n",
      "Rewritten: said feel inferior\n",
      "\n",
      "Original: how much weight on usps letter\n",
      "Rewritten: weight uses letter\n",
      "\n",
      "Original: estar meaning\n",
      "Rewritten: star meaning\n",
      "\n",
      "Original: what amino produces carnitine\n",
      "Rewritten: amino produces carnotite\n",
      "\n",
      "Original: what is chronometer who invented it\n",
      "Rewritten: chronometer invented\n",
      "\n",
      "Original: why did the ancient egyptians call their land kemet or black land\n",
      "Rewritten: ancient egyptians land black land\n",
      "\n",
      "Original: what causes muscles to tear\n",
      "Rewritten: causes muscles tear\n",
      "\n",
      "Original: why do some places on my scalp feel sore\n",
      "Rewritten: places scalp feel sore\n",
      "\n",
      "Original: how long do you stay contagious with the flu\n",
      "Rewritten: long stay contagious flu\n",
      "\n",
      "Original: what is onboarding for credit unions\n",
      "Rewritten: boarding credit unions\n"
     ]
    }
   ],
   "source": [
    "# Compare the original and rewritten queries\n",
    "for i in range(10):\n",
    "    # where i is random number\n",
    "    i = random.randint(0, len(topics) - 1)\n",
    "    print(f\"Original: {topics['query'][i]}\")\n",
    "    print(f\"Rewritten: {rewritten_topics['query'][i]}\\n\")"
   ],
   "metadata": {
    "collapsed": false,
    "ExecuteTime": {
     "end_time": "2024-03-19T16:10:48.385048Z",
     "start_time": "2024-03-19T16:10:48.380984Z"
    }
   },
   "id": "6459cd0faf22a870"
  },
  {
   "cell_type": "code",
   "execution_count": 22,
   "metadata": {
    "ExecuteTime": {
     "end_time": "2024-03-19T16:17:22.526730Z",
     "start_time": "2024-03-19T16:10:48.383946Z"
    }
   },
   "outputs": [
    {
     "name": "stderr",
     "output_type": "stream",
     "text": [
      "msmarco-passage/trec-dl-2020 documents:   6%|▌         | 497955/8841823 [00:31<05:54, 23518.73it/s]"
     ]
    },
    {
     "name": "stdout",
     "output_type": "stream",
     "text": [
      "17:11:07.752 [ForkJoinPool-3-worker-3] WARN org.terrier.structures.indexing.Indexer - Adding an empty document to the index (500080) - further warnings are suppressed\n"
     ]
    },
    {
     "name": "stderr",
     "output_type": "stream",
     "text": [
      "msmarco-passage/trec-dl-2020 documents: 100%|██████████| 8841823/8841823 [05:49<00:00, 25290.70it/s]\n",
      "Exception in thread Thread-6 (_write_fifos):\n",
      "Traceback (most recent call last):\n",
      "  File \"/Users/jasperbruin/anaconda3/envs/IR/lib/python3.10/threading.py\", line 1016, in _bootstrap_inner\n",
      "    self.run()\n",
      "  File \"/Users/jasperbruin/anaconda3/envs/IR/lib/python3.10/threading.py\", line 953, in run\n",
      "    self._target(*self._args, **self._kwargs)\n",
      "  File \"/Users/jasperbruin/anaconda3/envs/IR/lib/python3.10/site-packages/pyterrier/index.py\", line 1093, in _write_fifos\n",
      "    json.dump(doc, fifo)\n",
      "  File \"/Users/jasperbruin/anaconda3/envs/IR/lib/python3.10/json/__init__.py\", line 180, in dump\n",
      "    fp.write(chunk)\n",
      "BrokenPipeError: [Errno 32] Broken pipe\n",
      "msmarco-passage/trec-dl-2020 documents:   0%|          | 69/8841823 [18:12<38885:27:08, 15.83s/it]\n"
     ]
    },
    {
     "name": "stdout",
     "output_type": "stream",
     "text": [
      "17:17:22.517 [ForkJoinPool-3-worker-3] WARN org.terrier.structures.indexing.Indexer - Indexed 5 empty documents\n"
     ]
    }
   ],
   "source": [
    "indexer = pt.IterDictIndexer(str(Path(\"index\").absolute()))\n",
    "index_ref = indexer.index(corpus_iter)"
   ],
   "id": "116a4e67e6829bca"
  },
  {
   "cell_type": "code",
   "execution_count": 23,
   "outputs": [
    {
     "ename": "JavaException",
     "evalue": "JVM exception occurred: Could not load an index for ref index, even though IndexLoader org.terrier.structures.IndexOnDisk$DiskIndexLoader could support that type of index. It may be your ref had a wrong location; Terrier logs may have more information. java.lang.IllegalArgumentException",
     "output_type": "error",
     "traceback": [
      "\u001B[0;31m---------------------------------------------------------------------------\u001B[0m",
      "\u001B[0;31mJavaException\u001B[0m                             Traceback (most recent call last)",
      "Cell \u001B[0;32mIn[23], line 3\u001B[0m\n\u001B[1;32m      1\u001B[0m \u001B[38;5;28;01mdel\u001B[39;00m index_ref\n\u001B[0;32m----> 3\u001B[0m index \u001B[38;5;241m=\u001B[39m \u001B[43mpt\u001B[49m\u001B[38;5;241;43m.\u001B[39;49m\u001B[43mIndexFactory\u001B[49m\u001B[38;5;241;43m.\u001B[39;49m\u001B[43mof\u001B[49m\u001B[43m(\u001B[49m\u001B[38;5;28;43mstr\u001B[39;49m\u001B[43m(\u001B[49m\u001B[43mPath\u001B[49m\u001B[43m(\u001B[49m\u001B[38;5;124;43m\"\u001B[39;49m\u001B[38;5;124;43mindex\u001B[39;49m\u001B[38;5;124;43m\"\u001B[39;49m\u001B[43m)\u001B[49m\u001B[43m)\u001B[49m\u001B[43m)\u001B[49m\n\u001B[1;32m      4\u001B[0m tf_idf \u001B[38;5;241m=\u001B[39m pt\u001B[38;5;241m.\u001B[39mBatchRetrieve(index, wmodel\u001B[38;5;241m=\u001B[39m\u001B[38;5;124m\"\u001B[39m\u001B[38;5;124mTF_IDF\u001B[39m\u001B[38;5;124m\"\u001B[39m)\n\u001B[1;32m      5\u001B[0m bm25 \u001B[38;5;241m=\u001B[39m pt\u001B[38;5;241m.\u001B[39mBatchRetrieve(index, wmodel\u001B[38;5;241m=\u001B[39m\u001B[38;5;124m\"\u001B[39m\u001B[38;5;124mBM25\u001B[39m\u001B[38;5;124m\"\u001B[39m)\n",
      "File \u001B[0;32m~/anaconda3/envs/IR/lib/python3.10/site-packages/pyterrier/bootstrap.py:117\u001B[0m, in \u001B[0;36mIndexFactory.of\u001B[0;34m(indexlike, memory)\u001B[0m\n\u001B[1;32m    115\u001B[0m \u001B[38;5;28;01mif\u001B[39;00m memory \u001B[38;5;129;01mor\u001B[39;00m (\u001B[38;5;28misinstance\u001B[39m(memory, \u001B[38;5;28mlist\u001B[39m) \u001B[38;5;129;01mand\u001B[39;00m \u001B[38;5;28mlen\u001B[39m(memory) \u001B[38;5;241m>\u001B[39m \u001B[38;5;241m0\u001B[39m): \u001B[38;5;66;03m#MEMORY CAN BE A LIST?\u001B[39;00m\n\u001B[1;32m    116\u001B[0m     IOD\u001B[38;5;241m.\u001B[39msetIndexLoadingProfileAsRetrieval(\u001B[38;5;28;01mFalse\u001B[39;00m)\n\u001B[0;32m--> 117\u001B[0m index \u001B[38;5;241m=\u001B[39m \u001B[43mautoclass\u001B[49m\u001B[43m(\u001B[49m\u001B[38;5;124;43m\"\u001B[39;49m\u001B[38;5;124;43morg.terrier.structures.IndexFactory\u001B[39;49m\u001B[38;5;124;43m\"\u001B[39;49m\u001B[43m)\u001B[49m\u001B[38;5;241;43m.\u001B[39;49m\u001B[43mof\u001B[49m\u001B[43m(\u001B[49m\u001B[43mindexlike\u001B[49m\u001B[43m)\u001B[49m\n\u001B[1;32m    119\u001B[0m \u001B[38;5;66;03m# noop if memory is False\u001B[39;00m\n\u001B[1;32m    120\u001B[0m IOD\u001B[38;5;241m.\u001B[39msetIndexLoadingProfileAsRetrieval(load_profile)\n",
      "File \u001B[0;32mjnius/jnius_export_class.pxi:1163\u001B[0m, in \u001B[0;36mjnius.JavaMultipleMethod.__call__\u001B[0;34m()\u001B[0m\n",
      "File \u001B[0;32mjnius/jnius_export_class.pxi:876\u001B[0m, in \u001B[0;36mjnius.JavaMethod.__call__\u001B[0;34m()\u001B[0m\n",
      "File \u001B[0;32mjnius/jnius_export_class.pxi:1042\u001B[0m, in \u001B[0;36mjnius.JavaMethod.call_staticmethod\u001B[0;34m()\u001B[0m\n",
      "File \u001B[0;32mjnius/jnius_utils.pxi:79\u001B[0m, in \u001B[0;36mjnius.check_exception\u001B[0;34m()\u001B[0m\n",
      "\u001B[0;31mJavaException\u001B[0m: JVM exception occurred: Could not load an index for ref index, even though IndexLoader org.terrier.structures.IndexOnDisk$DiskIndexLoader could support that type of index. It may be your ref had a wrong location; Terrier logs may have more information. java.lang.IllegalArgumentException"
     ]
    }
   ],
   "source": [
    "del index_ref\n",
    "\n",
    "index = pt.IndexFactory.of(str(Path(\"index\")))\n",
    "tf_idf = pt.BatchRetrieve(index, wmodel=\"TF_IDF\")\n",
    "bm25 = pt.BatchRetrieve(index, wmodel=\"BM25\")"
   ],
   "metadata": {
    "collapsed": false,
    "ExecuteTime": {
     "end_time": "2024-03-19T16:17:22.569738Z",
     "start_time": "2024-03-19T16:17:22.531138Z"
    }
   },
   "id": "b290a09b83e0f7f4"
  },
  {
   "cell_type": "code",
   "execution_count": null,
   "outputs": [],
   "source": [
    "from pyterrier.measures import RR, nDCG, MAP\n",
    "from pathlib import Path\n",
    "\n",
    "results_dir = Path(\"results\")\n",
    "results_dir.mkdir(exist_ok=True)\n",
    "\n",
    "pt.Experiment(\n",
    "    [tf_idf, bm25],\n",
    "    dataset.get_topics(),\n",
    "    dataset.get_qrels(),\n",
    "    names=[\"TF-IDF\", \"BM25\"],\n",
    "    eval_metrics=[RR @ 10, nDCG @ 20, MAP, nDCG @ 10],\n",
    "    save_dir=str(results_dir),\n",
    ")"
   ],
   "metadata": {
    "collapsed": false,
    "ExecuteTime": {
     "start_time": "2024-03-19T16:17:22.553746Z"
    }
   },
   "id": "170adc2fe68cba38"
  },
  {
   "cell_type": "code",
   "execution_count": null,
   "outputs": [],
   "source": [
    "pt.Experiment(\n",
    "    [tf_idf, bm25],\n",
    "    rewritten_topics,  \n",
    "    dataset.get_qrels(),\n",
    "    names=[\"TF-IDF\", \"BM25\"],\n",
    "    eval_metrics=[RR @ 10, nDCG @ 20, MAP, nDCG @ 10],\n",
    "    save_dir=str(results_dir),\n",
    ")"
   ],
   "metadata": {
    "collapsed": false,
    "ExecuteTime": {
     "start_time": "2024-03-19T16:17:22.555436Z"
    }
   },
   "id": "613310c7c960a04"
  }
 ],
 "metadata": {
  "kernelspec": {
   "display_name": "Python 3",
   "language": "python",
   "name": "python3"
  },
  "language_info": {
   "codemirror_mode": {
    "name": "ipython",
    "version": 3
   },
   "file_extension": ".py",
   "mimetype": "text/x-python",
   "name": "python",
   "nbconvert_exporter": "python",
   "pygments_lexer": "ipython3",
   "version": "3.10.13"
  }
 },
 "nbformat": 4,
 "nbformat_minor": 5
}
