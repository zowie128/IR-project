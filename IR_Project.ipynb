{
 "cells": [
  {
   "cell_type": "code",
   "execution_count": 99,
   "id": "initial_id",
   "metadata": {
    "ExecuteTime": {
     "end_time": "2024-03-26T20:16:14.294430Z",
     "start_time": "2024-03-26T20:16:12.763917Z"
    }
   },
   "outputs": [
    {
     "name": "stdout",
     "output_type": "stream",
     "text": [
      "Requirement already satisfied: python-terrier in /Users/jasperbruin/anaconda3/envs/IR/lib/python3.10/site-packages (0.10.0)\r\n",
      "Requirement already satisfied: numpy in /Users/jasperbruin/anaconda3/envs/IR/lib/python3.10/site-packages (from python-terrier) (1.26.4)\r\n",
      "Requirement already satisfied: pandas in /Users/jasperbruin/anaconda3/envs/IR/lib/python3.10/site-packages (from python-terrier) (2.2.0)\r\n",
      "Requirement already satisfied: wget in /Users/jasperbruin/anaconda3/envs/IR/lib/python3.10/site-packages (from python-terrier) (3.2)\r\n",
      "Requirement already satisfied: tqdm in /Users/jasperbruin/anaconda3/envs/IR/lib/python3.10/site-packages (from python-terrier) (4.65.0)\r\n",
      "Requirement already satisfied: pyjnius>=1.4.2 in /Users/jasperbruin/anaconda3/envs/IR/lib/python3.10/site-packages (from python-terrier) (1.6.1)\r\n",
      "Requirement already satisfied: matchpy in /Users/jasperbruin/anaconda3/envs/IR/lib/python3.10/site-packages (from python-terrier) (0.5.5)\r\n",
      "Requirement already satisfied: scikit-learn in /Users/jasperbruin/anaconda3/envs/IR/lib/python3.10/site-packages (from python-terrier) (1.4.0)\r\n",
      "Requirement already satisfied: deprecated in /Users/jasperbruin/anaconda3/envs/IR/lib/python3.10/site-packages (from python-terrier) (1.2.14)\r\n",
      "Requirement already satisfied: chest in /Users/jasperbruin/anaconda3/envs/IR/lib/python3.10/site-packages (from python-terrier) (0.2.3)\r\n",
      "Requirement already satisfied: scipy in /Users/jasperbruin/anaconda3/envs/IR/lib/python3.10/site-packages (from python-terrier) (1.11.4)\r\n",
      "Requirement already satisfied: requests in /Users/jasperbruin/anaconda3/envs/IR/lib/python3.10/site-packages (from python-terrier) (2.31.0)\r\n",
      "Requirement already satisfied: joblib in /Users/jasperbruin/anaconda3/envs/IR/lib/python3.10/site-packages (from python-terrier) (1.3.2)\r\n",
      "Requirement already satisfied: nptyping==1.4.4 in /Users/jasperbruin/anaconda3/envs/IR/lib/python3.10/site-packages (from python-terrier) (1.4.4)\r\n",
      "Requirement already satisfied: more-itertools in /Users/jasperbruin/anaconda3/envs/IR/lib/python3.10/site-packages (from python-terrier) (10.2.0)\r\n",
      "Requirement already satisfied: ir-datasets>=0.3.2 in /Users/jasperbruin/anaconda3/envs/IR/lib/python3.10/site-packages (from python-terrier) (0.5.6)\r\n",
      "Requirement already satisfied: jinja2 in /Users/jasperbruin/anaconda3/envs/IR/lib/python3.10/site-packages (from python-terrier) (3.1.3)\r\n",
      "Requirement already satisfied: statsmodels in /Users/jasperbruin/anaconda3/envs/IR/lib/python3.10/site-packages (from python-terrier) (0.14.1)\r\n",
      "Requirement already satisfied: ir-measures>=0.3.1 in /Users/jasperbruin/anaconda3/envs/IR/lib/python3.10/site-packages (from python-terrier) (0.3.3)\r\n",
      "Requirement already satisfied: dill in /Users/jasperbruin/anaconda3/envs/IR/lib/python3.10/site-packages (from python-terrier) (0.3.8)\r\n",
      "Requirement already satisfied: pytrec-eval-terrier>=0.5.3 in /Users/jasperbruin/anaconda3/envs/IR/lib/python3.10/site-packages (from python-terrier) (0.5.6)\r\n",
      "Requirement already satisfied: typish>=1.7.0 in /Users/jasperbruin/anaconda3/envs/IR/lib/python3.10/site-packages (from nptyping==1.4.4->python-terrier) (1.9.3)\r\n",
      "Requirement already satisfied: beautifulsoup4>=4.4.1 in /Users/jasperbruin/anaconda3/envs/IR/lib/python3.10/site-packages (from ir-datasets>=0.3.2->python-terrier) (4.12.2)\r\n",
      "Requirement already satisfied: inscriptis>=2.2.0 in /Users/jasperbruin/anaconda3/envs/IR/lib/python3.10/site-packages (from ir-datasets>=0.3.2->python-terrier) (2.4.0.1)\r\n",
      "Requirement already satisfied: lxml>=4.5.2 in /Users/jasperbruin/anaconda3/envs/IR/lib/python3.10/site-packages (from ir-datasets>=0.3.2->python-terrier) (5.1.0)\r\n",
      "Requirement already satisfied: pyyaml>=5.3.1 in /Users/jasperbruin/anaconda3/envs/IR/lib/python3.10/site-packages (from ir-datasets>=0.3.2->python-terrier) (6.0.1)\r\n",
      "Requirement already satisfied: trec-car-tools>=2.5.4 in /Users/jasperbruin/anaconda3/envs/IR/lib/python3.10/site-packages (from ir-datasets>=0.3.2->python-terrier) (2.6)\r\n",
      "Requirement already satisfied: lz4>=3.1.10 in /Users/jasperbruin/anaconda3/envs/IR/lib/python3.10/site-packages (from ir-datasets>=0.3.2->python-terrier) (4.3.3)\r\n",
      "Requirement already satisfied: warc3-wet>=0.2.3 in /Users/jasperbruin/anaconda3/envs/IR/lib/python3.10/site-packages (from ir-datasets>=0.3.2->python-terrier) (0.2.3)\r\n",
      "Requirement already satisfied: warc3-wet-clueweb09>=0.2.5 in /Users/jasperbruin/anaconda3/envs/IR/lib/python3.10/site-packages (from ir-datasets>=0.3.2->python-terrier) (0.2.5)\r\n",
      "Requirement already satisfied: zlib-state>=0.1.3 in /Users/jasperbruin/anaconda3/envs/IR/lib/python3.10/site-packages (from ir-datasets>=0.3.2->python-terrier) (0.1.6)\r\n",
      "Requirement already satisfied: ijson>=3.1.3 in /Users/jasperbruin/anaconda3/envs/IR/lib/python3.10/site-packages (from ir-datasets>=0.3.2->python-terrier) (3.2.3)\r\n",
      "Requirement already satisfied: pyautocorpus>=0.1.1 in /Users/jasperbruin/anaconda3/envs/IR/lib/python3.10/site-packages (from ir-datasets>=0.3.2->python-terrier) (0.1.12)\r\n",
      "Requirement already satisfied: unlzw3>=0.2.1 in /Users/jasperbruin/anaconda3/envs/IR/lib/python3.10/site-packages (from ir-datasets>=0.3.2->python-terrier) (0.2.2)\r\n",
      "Requirement already satisfied: cwl-eval>=1.0.10 in /Users/jasperbruin/anaconda3/envs/IR/lib/python3.10/site-packages (from ir-measures>=0.3.1->python-terrier) (1.0.12)\r\n",
      "Requirement already satisfied: charset-normalizer<4,>=2 in /Users/jasperbruin/anaconda3/envs/IR/lib/python3.10/site-packages (from requests->python-terrier) (2.0.4)\r\n",
      "Requirement already satisfied: idna<4,>=2.5 in /Users/jasperbruin/anaconda3/envs/IR/lib/python3.10/site-packages (from requests->python-terrier) (3.4)\r\n",
      "Requirement already satisfied: urllib3<3,>=1.21.1 in /Users/jasperbruin/anaconda3/envs/IR/lib/python3.10/site-packages (from requests->python-terrier) (2.1.0)\r\n",
      "Requirement already satisfied: certifi>=2017.4.17 in /Users/jasperbruin/anaconda3/envs/IR/lib/python3.10/site-packages (from requests->python-terrier) (2024.2.2)\r\n",
      "Requirement already satisfied: heapdict in /Users/jasperbruin/anaconda3/envs/IR/lib/python3.10/site-packages (from chest->python-terrier) (1.0.1)\r\n",
      "Requirement already satisfied: wrapt<2,>=1.10 in /Users/jasperbruin/anaconda3/envs/IR/lib/python3.10/site-packages (from deprecated->python-terrier) (1.14.1)\r\n",
      "Requirement already satisfied: MarkupSafe>=2.0 in /Users/jasperbruin/anaconda3/envs/IR/lib/python3.10/site-packages (from jinja2->python-terrier) (2.1.3)\r\n",
      "Requirement already satisfied: multiset<3.0,>=2.0 in /Users/jasperbruin/anaconda3/envs/IR/lib/python3.10/site-packages (from matchpy->python-terrier) (2.1.1)\r\n",
      "Requirement already satisfied: python-dateutil>=2.8.2 in /Users/jasperbruin/anaconda3/envs/IR/lib/python3.10/site-packages (from pandas->python-terrier) (2.8.2)\r\n",
      "Requirement already satisfied: pytz>=2020.1 in /Users/jasperbruin/anaconda3/envs/IR/lib/python3.10/site-packages (from pandas->python-terrier) (2023.3.post1)\r\n",
      "Requirement already satisfied: tzdata>=2022.7 in /Users/jasperbruin/anaconda3/envs/IR/lib/python3.10/site-packages (from pandas->python-terrier) (2024.1)\r\n",
      "Requirement already satisfied: threadpoolctl>=2.0.0 in /Users/jasperbruin/anaconda3/envs/IR/lib/python3.10/site-packages (from scikit-learn->python-terrier) (3.3.0)\r\n",
      "Requirement already satisfied: patsy>=0.5.4 in /Users/jasperbruin/anaconda3/envs/IR/lib/python3.10/site-packages (from statsmodels->python-terrier) (0.5.6)\r\n",
      "Requirement already satisfied: packaging>=21.3 in /Users/jasperbruin/anaconda3/envs/IR/lib/python3.10/site-packages (from statsmodels->python-terrier) (23.1)\r\n",
      "Requirement already satisfied: soupsieve>1.2 in /Users/jasperbruin/anaconda3/envs/IR/lib/python3.10/site-packages (from beautifulsoup4>=4.4.1->ir-datasets>=0.3.2->python-terrier) (2.5)\r\n",
      "Requirement already satisfied: six in /Users/jasperbruin/anaconda3/envs/IR/lib/python3.10/site-packages (from patsy>=0.5.4->statsmodels->python-terrier) (1.16.0)\r\n",
      "Requirement already satisfied: cbor>=1.0.0 in /Users/jasperbruin/anaconda3/envs/IR/lib/python3.10/site-packages (from trec-car-tools>=2.5.4->ir-datasets>=0.3.2->python-terrier) (1.0.0)\r\n"
     ]
    },
    {
     "data": {
      "text/plain": "True"
     },
     "execution_count": 99,
     "metadata": {},
     "output_type": "execute_result"
    }
   ],
   "source": [
    "!pip install python-terrier\n",
    "import pyterrier as pt\n",
    "if not pt.started():\n",
    "    pt.init()\n",
    "\n",
    "from transformers import BertModel\n",
    "import torch\n",
    "import torch.nn as nn\n",
    "\n",
    "import nltk\n",
    "from nltk.tokenize import word_tokenize\n",
    "from nltk.corpus import stopwords\n",
    "from nltk.stem import PorterStemmer\n",
    "import re\n",
    "from pathlib import Path\n",
    "import os\n",
    "import pandas as pd\n",
    "\n",
    "from pyterrier.measures import RR, nDCG, MAP\n",
    "# Ensure NLTK data is downloaded only once\n",
    "nltk.download('punkt', quiet=True)\n",
    "nltk.download('stopwords', quiet=True)"
   ]
  },
  {
   "cell_type": "markdown",
   "source": [
    "# Load dataset"
   ],
   "metadata": {
    "collapsed": false
   },
   "id": "beafbb0455e0ffc8"
  },
  {
   "cell_type": "code",
   "execution_count": 100,
   "id": "d0b2ad49607e9ca7",
   "metadata": {
    "collapsed": false,
    "ExecuteTime": {
     "end_time": "2024-03-26T20:16:14.333783Z",
     "start_time": "2024-03-26T20:16:14.292294Z"
    }
   },
   "outputs": [
    {
     "name": "stderr",
     "output_type": "stream",
     "text": [
      "\n",
      "msmarco-passage/trec-dl-2020 documents:   0%|          | 0/8841823 [00:06<?, ?it/s]\u001B[A\n"
     ]
    }
   ],
   "source": [
    "# Example of loading a dataset from PyTerrier\n",
    "dataset = pt.get_dataset('irds:msmarco-passage/trec-dl-2020')\n",
    "\n",
    "topics = dataset.get_topics()\n",
    "qrels = dataset.get_qrels()\n",
    "corpus_iter = dataset.get_corpus_iter()\n",
    "# Convert to an iterator\n",
    "corpus_iterator = iter(corpus_iter)\n",
    "first_doc = next(corpus_iterator)"
   ]
  },
  {
   "cell_type": "code",
   "execution_count": 101,
   "outputs": [
    {
     "data": {
      "text/plain": "       qid                                       query\n0  1030303                          who is aziz hashim\n1  1037496                          who is rep scalise\n2  1043135            who killed nicholas ii of russia\n3  1045109                     who owns barnhart crane\n4  1049519  who said no one can make you feel inferior",
      "text/html": "<div>\n<style scoped>\n    .dataframe tbody tr th:only-of-type {\n        vertical-align: middle;\n    }\n\n    .dataframe tbody tr th {\n        vertical-align: top;\n    }\n\n    .dataframe thead th {\n        text-align: right;\n    }\n</style>\n<table border=\"1\" class=\"dataframe\">\n  <thead>\n    <tr style=\"text-align: right;\">\n      <th></th>\n      <th>qid</th>\n      <th>query</th>\n    </tr>\n  </thead>\n  <tbody>\n    <tr>\n      <th>0</th>\n      <td>1030303</td>\n      <td>who is aziz hashim</td>\n    </tr>\n    <tr>\n      <th>1</th>\n      <td>1037496</td>\n      <td>who is rep scalise</td>\n    </tr>\n    <tr>\n      <th>2</th>\n      <td>1043135</td>\n      <td>who killed nicholas ii of russia</td>\n    </tr>\n    <tr>\n      <th>3</th>\n      <td>1045109</td>\n      <td>who owns barnhart crane</td>\n    </tr>\n    <tr>\n      <th>4</th>\n      <td>1049519</td>\n      <td>who said no one can make you feel inferior</td>\n    </tr>\n  </tbody>\n</table>\n</div>"
     },
     "execution_count": 101,
     "metadata": {},
     "output_type": "execute_result"
    }
   ],
   "source": [
    "topics.head()"
   ],
   "metadata": {
    "collapsed": false,
    "ExecuteTime": {
     "end_time": "2024-03-26T20:16:14.334122Z",
     "start_time": "2024-03-26T20:16:14.321750Z"
    }
   },
   "id": "16535d9f9cb17283"
  },
  {
   "cell_type": "code",
   "execution_count": 102,
   "outputs": [
    {
     "data": {
      "text/plain": "     qid    docno  label iteration\n0  23849  1020327      2         0\n1  23849  1034183      3         0\n2  23849  1120730      0         0\n3  23849  1139571      1         0\n4  23849  1143724      0         0",
      "text/html": "<div>\n<style scoped>\n    .dataframe tbody tr th:only-of-type {\n        vertical-align: middle;\n    }\n\n    .dataframe tbody tr th {\n        vertical-align: top;\n    }\n\n    .dataframe thead th {\n        text-align: right;\n    }\n</style>\n<table border=\"1\" class=\"dataframe\">\n  <thead>\n    <tr style=\"text-align: right;\">\n      <th></th>\n      <th>qid</th>\n      <th>docno</th>\n      <th>label</th>\n      <th>iteration</th>\n    </tr>\n  </thead>\n  <tbody>\n    <tr>\n      <th>0</th>\n      <td>23849</td>\n      <td>1020327</td>\n      <td>2</td>\n      <td>0</td>\n    </tr>\n    <tr>\n      <th>1</th>\n      <td>23849</td>\n      <td>1034183</td>\n      <td>3</td>\n      <td>0</td>\n    </tr>\n    <tr>\n      <th>2</th>\n      <td>23849</td>\n      <td>1120730</td>\n      <td>0</td>\n      <td>0</td>\n    </tr>\n    <tr>\n      <th>3</th>\n      <td>23849</td>\n      <td>1139571</td>\n      <td>1</td>\n      <td>0</td>\n    </tr>\n    <tr>\n      <th>4</th>\n      <td>23849</td>\n      <td>1143724</td>\n      <td>0</td>\n      <td>0</td>\n    </tr>\n  </tbody>\n</table>\n</div>"
     },
     "execution_count": 102,
     "metadata": {},
     "output_type": "execute_result"
    }
   ],
   "source": [
    "qrels.head()"
   ],
   "metadata": {
    "collapsed": false,
    "ExecuteTime": {
     "end_time": "2024-03-26T20:16:14.334980Z",
     "start_time": "2024-03-26T20:16:14.326466Z"
    }
   },
   "id": "9d7b793eada6f871"
  },
  {
   "cell_type": "markdown",
   "source": [
    "# Load models"
   ],
   "metadata": {
    "collapsed": false
   },
   "id": "6f9e1515d8868ea"
  },
  {
   "cell_type": "code",
   "execution_count": 103,
   "id": "c2d27d527d1cec7a",
   "metadata": {
    "collapsed": false,
    "ExecuteTime": {
     "end_time": "2024-03-26T20:16:15.725415Z",
     "start_time": "2024-03-26T20:16:14.331138Z"
    }
   },
   "outputs": [
    {
     "data": {
      "text/plain": "BertClassifier(\n  (bert): BertModel(\n    (embeddings): BertEmbeddings(\n      (word_embeddings): Embedding(30522, 768, padding_idx=0)\n      (position_embeddings): Embedding(512, 768)\n      (token_type_embeddings): Embedding(2, 768)\n      (LayerNorm): LayerNorm((768,), eps=1e-12, elementwise_affine=True)\n      (dropout): Dropout(p=0.1, inplace=False)\n    )\n    (encoder): BertEncoder(\n      (layer): ModuleList(\n        (0-11): 12 x BertLayer(\n          (attention): BertAttention(\n            (self): BertSelfAttention(\n              (query): Linear(in_features=768, out_features=768, bias=True)\n              (key): Linear(in_features=768, out_features=768, bias=True)\n              (value): Linear(in_features=768, out_features=768, bias=True)\n              (dropout): Dropout(p=0.1, inplace=False)\n            )\n            (output): BertSelfOutput(\n              (dense): Linear(in_features=768, out_features=768, bias=True)\n              (LayerNorm): LayerNorm((768,), eps=1e-12, elementwise_affine=True)\n              (dropout): Dropout(p=0.1, inplace=False)\n            )\n          )\n          (intermediate): BertIntermediate(\n            (dense): Linear(in_features=768, out_features=3072, bias=True)\n            (intermediate_act_fn): GELUActivation()\n          )\n          (output): BertOutput(\n            (dense): Linear(in_features=3072, out_features=768, bias=True)\n            (LayerNorm): LayerNorm((768,), eps=1e-12, elementwise_affine=True)\n            (dropout): Dropout(p=0.1, inplace=False)\n          )\n        )\n      )\n    )\n    (pooler): BertPooler(\n      (dense): Linear(in_features=768, out_features=768, bias=True)\n      (activation): Tanh()\n    )\n  )\n  (classification): Linear(in_features=768, out_features=2, bias=True)\n)"
     },
     "execution_count": 103,
     "metadata": {},
     "output_type": "execute_result"
    }
   ],
   "source": [
    "class BertClassifier(nn.Module):\n",
    "    def __init__(self, num_labels=2):\n",
    "        super(BertClassifier, self).__init__()\n",
    "        self.bert = BertModel.from_pretrained('bert-base-uncased')\n",
    "        # Align the layer names with the checkpoint\n",
    "        self.classification = nn.Linear(768, num_labels)\n",
    "\n",
    "    def forward(self, input_ids, attention_mask=None, token_type_ids=None):\n",
    "        outputs = self.bert(input_ids=input_ids, attention_mask=attention_mask, token_type_ids=token_type_ids)\n",
    "        pooled_output = outputs.pooler_output\n",
    "        logits = self.classification(pooled_output)\n",
    "        return logits\n",
    "\n",
    "# Initialize the model\n",
    "classifier_model = BertClassifier()\n",
    "\n",
    "# Load the checkpoint\n",
    "model_path = './model/doc_baseline.ckpt'\n",
    "checkpoint = torch.load(model_path, map_location=torch.device('cpu'))\n",
    "\n",
    "# Extract the state_dict, assuming the state dict is saved under 'state_dict'\n",
    "model_state_dict = checkpoint['state_dict']\n",
    "\n",
    "# Adjust keys in the state_dict as needed\n",
    "adjusted_model_state_dict = {}\n",
    "for key, value in model_state_dict.items():\n",
    "    # Remove the 'model.' prefix and handle the 'classifier' to 'classification' naming difference\n",
    "    new_key = key.replace('model.', '').replace('classification', 'classifier')\n",
    "    if 'position_ids' not in new_key:  # Ignore 'bert.embeddings.position_ids'\n",
    "        adjusted_model_state_dict[new_key] = value\n",
    "\n",
    "# Load the adjusted state dict\n",
    "classifier_model.load_state_dict(adjusted_model_state_dict, strict=False)\n",
    "classifier_model.eval()  # Set the model to evaluation mode\n"
   ]
  },
  {
   "cell_type": "code",
   "execution_count": 104,
   "outputs": [
    {
     "data": {
      "text/plain": "DocQuery2DocModel(\n  (bert): BertModel(\n    (embeddings): BertEmbeddings(\n      (word_embeddings): Embedding(30522, 768, padding_idx=0)\n      (position_embeddings): Embedding(512, 768)\n      (token_type_embeddings): Embedding(2, 768)\n      (LayerNorm): LayerNorm((768,), eps=1e-12, elementwise_affine=True)\n      (dropout): Dropout(p=0.1, inplace=False)\n    )\n    (encoder): BertEncoder(\n      (layer): ModuleList(\n        (0-11): 12 x BertLayer(\n          (attention): BertAttention(\n            (self): BertSelfAttention(\n              (query): Linear(in_features=768, out_features=768, bias=True)\n              (key): Linear(in_features=768, out_features=768, bias=True)\n              (value): Linear(in_features=768, out_features=768, bias=True)\n              (dropout): Dropout(p=0.1, inplace=False)\n            )\n            (output): BertSelfOutput(\n              (dense): Linear(in_features=768, out_features=768, bias=True)\n              (LayerNorm): LayerNorm((768,), eps=1e-12, elementwise_affine=True)\n              (dropout): Dropout(p=0.1, inplace=False)\n            )\n          )\n          (intermediate): BertIntermediate(\n            (dense): Linear(in_features=768, out_features=3072, bias=True)\n            (intermediate_act_fn): GELUActivation()\n          )\n          (output): BertOutput(\n            (dense): Linear(in_features=3072, out_features=768, bias=True)\n            (LayerNorm): LayerNorm((768,), eps=1e-12, elementwise_affine=True)\n            (dropout): Dropout(p=0.1, inplace=False)\n          )\n        )\n      )\n    )\n    (pooler): BertPooler(\n      (dense): Linear(in_features=768, out_features=768, bias=True)\n      (activation): Tanh()\n    )\n  )\n  (classification): Linear(in_features=768, out_features=2, bias=True)\n)"
     },
     "execution_count": 104,
     "metadata": {},
     "output_type": "execute_result"
    }
   ],
   "source": [
    "from transformers import BertModel\n",
    "import torch\n",
    "import torch.nn as nn\n",
    "\n",
    "class DocQuery2DocModel(nn.Module):\n",
    "    def __init__(self, num_labels=2):\n",
    "        super(DocQuery2DocModel, self).__init__()\n",
    "        self.bert = BertModel.from_pretrained('bert-base-uncased')\n",
    "        # Align the layer names with the checkpoint\n",
    "        self.classification = nn.Linear(768, num_labels)\n",
    "\n",
    "    def forward(self, input_ids, attention_mask=None, token_type_ids=None):\n",
    "        outputs = self.bert(input_ids=input_ids, attention_mask=attention_mask, token_type_ids=token_type_ids)\n",
    "        pooled_output = outputs.pooler_output\n",
    "        logits = self.classification(pooled_output)\n",
    "        return logits\n",
    "\n",
    "# Initialize your model\n",
    "doc_query2doc_model = DocQuery2DocModel()\n",
    "\n",
    "# Load the checkpoint\n",
    "model_path = './model/wetransfer_model-1-doc2query-all-rankers_2024-03-21_1327/doc_query2doc.ckpt'\n",
    "checkpoint = torch.load(model_path, map_location=torch.device('cpu'))\n",
    "\n",
    "# Assuming the checkpoint is compatible with the model architecture\n",
    "doc_query2doc_model.load_state_dict(checkpoint, strict=False)\n",
    "\n",
    "doc_query2doc_model.eval()  # Set the model to evaluation mode"
   ],
   "metadata": {
    "collapsed": false,
    "ExecuteTime": {
     "end_time": "2024-03-26T20:16:16.741373Z",
     "start_time": "2024-03-26T20:16:15.725063Z"
    }
   },
   "id": "e58fad53b5403e42"
  },
  {
   "cell_type": "code",
   "execution_count": 105,
   "id": "3cf48aca4b8b0c62",
   "metadata": {
    "collapsed": false,
    "ExecuteTime": {
     "end_time": "2024-03-26T20:16:16.748235Z",
     "start_time": "2024-03-26T20:16:16.744691Z"
    }
   },
   "outputs": [],
   "source": [
    "class TextPreprocessor:\n",
    "    def __init__(self):\n",
    "        self.stop_words = set(stopwords.words('english'))\n",
    "        self.stemmer = PorterStemmer()\n",
    "\n",
    "    def tokenize(self, text: str):\n",
    "        return word_tokenize(text)\n",
    "\n",
    "    def normalize(self, tokens):\n",
    "        return [re.sub(r'\\W+', '', token.lower()) for token in tokens if re.sub(r'\\W+', '', token.lower())]\n",
    "\n",
    "    def stopping(self, tokens):\n",
    "        return [token for token in tokens if token not in self.stop_words]\n",
    "\n",
    "    def stemming(self, tokens):\n",
    "        return [self.stemmer.stem(token) for token in tokens]\n",
    "\n",
    "    def preprocess(self, query: str, use_tokenize=True, use_normalize=True, use_stopping=True, use_stemming=False):\n",
    "        if query is None or not isinstance(query, str):\n",
    "            raise ValueError(\"Input query must be a non-empty string\")\n",
    "        tokens = self.tokenize(query) if use_tokenize else query.split()\n",
    "        if use_normalize: tokens = self.normalize(tokens)\n",
    "        if use_stopping: tokens = self.stopping(tokens)\n",
    "        if use_stemming: tokens = self.stemming(tokens)\n",
    "        return ' '.join(tokens)\n",
    "\n",
    "\n",
    "def preprocess_queries(query: str) -> str:\n",
    "    preprocessor = TextPreprocessor()\n",
    "    return preprocessor.preprocess(query, use_tokenize=True, use_normalize=True, use_stopping=True, use_stemming=False)"
   ]
  },
  {
   "cell_type": "code",
   "execution_count": 106,
   "outputs": [],
   "source": [
    "class ContextAwareQueryRewriter:\n",
    "    def __init__(self, classifier_model, doc_query_model, tokenizer):\n",
    "        self.classifier_model = classifier_model\n",
    "        self.doc_query_model = doc_query_model\n",
    "        self.tokenizer = tokenizer\n",
    "\n",
    "    def classify_query(self, query):\n",
    "        inputs = self.tokenizer(query, return_tensors=\"pt\", padding=True, truncation=True, max_length=512)\n",
    "        with torch.no_grad():\n",
    "            output = self.classifier_model(**inputs)\n",
    "        logits = output if isinstance(output, torch.Tensor) else output.logits  # Adjust based on actual model output\n",
    "        category = torch.argmax(logits, dim=-1).item()  # Assuming binary or single-label classification\n",
    "        return category\n",
    "\n",
    "    def rewrite_query(self, query, category):\n",
    "        # Assuming the model can generate text, you'd craft a prompt that guides the model\n",
    "        # to rewrite the query based on its category or intent.\n",
    "        # This is a simplified example where the prompt is the query itself, possibly with some added context.\n",
    "    \n",
    "        prompt = f\"Rewrite the following query to be more specific about {category}: {query}\"\n",
    "    \n",
    "        # Tokenize the prompt\n",
    "        inputs = self.tokenizer(prompt, return_tensors=\"pt\", padding=True, truncation=True, max_length=512)\n",
    "\n",
    "        with torch.no_grad():\n",
    "            # Here, you would use the model to process the prompt and generate a rewritten query.\n",
    "            # The specifics of this step depend on your model's capabilities and setup.\n",
    "            output = self.doc_query_model.generate(**inputs)\n",
    "    \n",
    "            # Convert the model's output tokens back to text\n",
    "            rewritten_query = self.tokenizer.decode(output[0], skip_special_tokens=True)\n",
    "        return rewritten_query\n",
    "\n",
    "\n",
    "    def transform(self, queries):\n",
    "        rewritten_queries = []\n",
    "        for query in queries:\n",
    "            category = self.classify_query(query)\n",
    "            rewritten_query = self.rewrite_query(query, category)\n",
    "            rewritten_queries.append(rewritten_query)\n",
    "        return rewritten_queries\n"
   ],
   "metadata": {
    "collapsed": false,
    "ExecuteTime": {
     "end_time": "2024-03-26T20:16:16.757034Z",
     "start_time": "2024-03-26T20:16:16.749712Z"
    }
   },
   "id": "158b0090a11a4d9d"
  },
  {
   "cell_type": "markdown",
   "source": [
    "### Step 1: Extracting Original Queries\n",
    "\n",
    "You've already loaded the dataset and accessed the topics, which contain the queries. The code snippet you've shown extracts the queries from the `topics` DataFrame provided by PyTerrier:"
   ],
   "metadata": {
    "collapsed": false
   },
   "id": "dcfaf86fc74814ce"
  },
  {
   "cell_type": "code",
   "execution_count": 107,
   "outputs": [],
   "source": [
    "# Assuming you've already loaded the dataset and have the 'topics' DataFrame\n",
    "original_queries = [topic['query'] for topic_id, topic in topics.iterrows()]"
   ],
   "metadata": {
    "collapsed": false,
    "ExecuteTime": {
     "end_time": "2024-03-26T20:16:16.784241Z",
     "start_time": "2024-03-26T20:16:16.758907Z"
    }
   },
   "id": "b433065d9872a592"
  },
  {
   "cell_type": "markdown",
   "source": [
    "### Step 2: Preprocessing Queries\n",
    "\n",
    "You've defined a `TextPreprocessor` class for preprocessing queries. You can apply this preprocessing to each of the original queries to get them ready for the rewriting process:\n"
   ],
   "metadata": {
    "collapsed": false
   },
   "id": "62d5311335373f64"
  },
  {
   "cell_type": "code",
   "execution_count": 108,
   "outputs": [],
   "source": [
    "# preprocessor = TextPreprocessor()\n",
    "# preprocessed_queries = [preprocessor.preprocess(query) for query in original_queries]\n"
   ],
   "metadata": {
    "collapsed": false,
    "ExecuteTime": {
     "end_time": "2024-03-26T20:16:16.792796Z",
     "start_time": "2024-03-26T20:16:16.764822Z"
    }
   },
   "id": "545af3a0edef4845"
  },
  {
   "cell_type": "markdown",
   "source": [
    "### Step 3: Rewriting Queries\n",
    "\n",
    "You've also created a `QueryRewriter` class that takes in a model and a tokenizer to rewrite queries based on a certain logic (in your case, this logic depends on the predictions from a BertClassifier model). Initialize the `QueryRewriter` with the necessary model and tokenizer, and then use it to rewrite the preprocessed queries:"
   ],
   "metadata": {
    "collapsed": false
   },
   "id": "720525af9081cece"
  },
  {
   "cell_type": "code",
   "execution_count": 109,
   "outputs": [
    {
     "ename": "AttributeError",
     "evalue": "'DocQuery2DocModel' object has no attribute 'generate'",
     "output_type": "error",
     "traceback": [
      "\u001B[0;31m---------------------------------------------------------------------------\u001B[0m",
      "\u001B[0;31mAttributeError\u001B[0m                            Traceback (most recent call last)",
      "Cell \u001B[0;32mIn[109], line 10\u001B[0m\n\u001B[1;32m      7\u001B[0m query_rewriter \u001B[38;5;241m=\u001B[39m ContextAwareQueryRewriter(classifier_model,doc_query2doc_model, tokenizer)\n\u001B[1;32m      9\u001B[0m \u001B[38;5;66;03m# Rewrite the preprocessed queries\u001B[39;00m\n\u001B[0;32m---> 10\u001B[0m rewritten_queries \u001B[38;5;241m=\u001B[39m \u001B[43mquery_rewriter\u001B[49m\u001B[38;5;241;43m.\u001B[39;49m\u001B[43mtransform\u001B[49m\u001B[43m(\u001B[49m\u001B[43moriginal_queries\u001B[49m\u001B[43m)\u001B[49m\n",
      "Cell \u001B[0;32mIn[106], line 39\u001B[0m, in \u001B[0;36mContextAwareQueryRewriter.transform\u001B[0;34m(self, queries)\u001B[0m\n\u001B[1;32m     37\u001B[0m \u001B[38;5;28;01mfor\u001B[39;00m query \u001B[38;5;129;01min\u001B[39;00m queries:\n\u001B[1;32m     38\u001B[0m     category \u001B[38;5;241m=\u001B[39m \u001B[38;5;28mself\u001B[39m\u001B[38;5;241m.\u001B[39mclassify_query(query)\n\u001B[0;32m---> 39\u001B[0m     rewritten_query \u001B[38;5;241m=\u001B[39m \u001B[38;5;28;43mself\u001B[39;49m\u001B[38;5;241;43m.\u001B[39;49m\u001B[43mrewrite_query\u001B[49m\u001B[43m(\u001B[49m\u001B[43mquery\u001B[49m\u001B[43m,\u001B[49m\u001B[43m \u001B[49m\u001B[43mcategory\u001B[49m\u001B[43m)\u001B[49m\n\u001B[1;32m     40\u001B[0m     rewritten_queries\u001B[38;5;241m.\u001B[39mappend(rewritten_query)\n\u001B[1;32m     41\u001B[0m \u001B[38;5;28;01mreturn\u001B[39;00m rewritten_queries\n",
      "Cell \u001B[0;32mIn[106], line 28\u001B[0m, in \u001B[0;36mContextAwareQueryRewriter.rewrite_query\u001B[0;34m(self, query, category)\u001B[0m\n\u001B[1;32m     23\u001B[0m inputs \u001B[38;5;241m=\u001B[39m \u001B[38;5;28mself\u001B[39m\u001B[38;5;241m.\u001B[39mtokenizer(prompt, return_tensors\u001B[38;5;241m=\u001B[39m\u001B[38;5;124m\"\u001B[39m\u001B[38;5;124mpt\u001B[39m\u001B[38;5;124m\"\u001B[39m, padding\u001B[38;5;241m=\u001B[39m\u001B[38;5;28;01mTrue\u001B[39;00m, truncation\u001B[38;5;241m=\u001B[39m\u001B[38;5;28;01mTrue\u001B[39;00m, max_length\u001B[38;5;241m=\u001B[39m\u001B[38;5;241m512\u001B[39m)\n\u001B[1;32m     25\u001B[0m \u001B[38;5;28;01mwith\u001B[39;00m torch\u001B[38;5;241m.\u001B[39mno_grad():\n\u001B[1;32m     26\u001B[0m     \u001B[38;5;66;03m# Here, you would use the model to process the prompt and generate a rewritten query.\u001B[39;00m\n\u001B[1;32m     27\u001B[0m     \u001B[38;5;66;03m# The specifics of this step depend on your model's capabilities and setup.\u001B[39;00m\n\u001B[0;32m---> 28\u001B[0m     output \u001B[38;5;241m=\u001B[39m \u001B[38;5;28;43mself\u001B[39;49m\u001B[38;5;241;43m.\u001B[39;49m\u001B[43mdoc_query_model\u001B[49m\u001B[38;5;241;43m.\u001B[39;49m\u001B[43mgenerate\u001B[49m(\u001B[38;5;241m*\u001B[39m\u001B[38;5;241m*\u001B[39minputs)\n\u001B[1;32m     30\u001B[0m     \u001B[38;5;66;03m# Convert the model's output tokens back to text\u001B[39;00m\n\u001B[1;32m     31\u001B[0m     rewritten_query \u001B[38;5;241m=\u001B[39m \u001B[38;5;28mself\u001B[39m\u001B[38;5;241m.\u001B[39mtokenizer\u001B[38;5;241m.\u001B[39mdecode(output[\u001B[38;5;241m0\u001B[39m], skip_special_tokens\u001B[38;5;241m=\u001B[39m\u001B[38;5;28;01mTrue\u001B[39;00m)\n",
      "File \u001B[0;32m~/anaconda3/envs/IR/lib/python3.10/site-packages/torch/nn/modules/module.py:1688\u001B[0m, in \u001B[0;36mModule.__getattr__\u001B[0;34m(self, name)\u001B[0m\n\u001B[1;32m   1686\u001B[0m     \u001B[38;5;28;01mif\u001B[39;00m name \u001B[38;5;129;01min\u001B[39;00m modules:\n\u001B[1;32m   1687\u001B[0m         \u001B[38;5;28;01mreturn\u001B[39;00m modules[name]\n\u001B[0;32m-> 1688\u001B[0m \u001B[38;5;28;01mraise\u001B[39;00m \u001B[38;5;167;01mAttributeError\u001B[39;00m(\u001B[38;5;124mf\u001B[39m\u001B[38;5;124m\"\u001B[39m\u001B[38;5;124m'\u001B[39m\u001B[38;5;132;01m{\u001B[39;00m\u001B[38;5;28mtype\u001B[39m(\u001B[38;5;28mself\u001B[39m)\u001B[38;5;241m.\u001B[39m\u001B[38;5;18m__name__\u001B[39m\u001B[38;5;132;01m}\u001B[39;00m\u001B[38;5;124m'\u001B[39m\u001B[38;5;124m object has no attribute \u001B[39m\u001B[38;5;124m'\u001B[39m\u001B[38;5;132;01m{\u001B[39;00mname\u001B[38;5;132;01m}\u001B[39;00m\u001B[38;5;124m'\u001B[39m\u001B[38;5;124m\"\u001B[39m)\n",
      "\u001B[0;31mAttributeError\u001B[0m: 'DocQuery2DocModel' object has no attribute 'generate'"
     ]
    }
   ],
   "source": [
    "from transformers import BertTokenizer\n",
    "\n",
    "# Initialize the tokenizer for BERT\n",
    "tokenizer = BertTokenizer.from_pretrained('bert-base-uncased')\n",
    "\n",
    "# Initialize the QueryRewriter with your model and tokenizer\n",
    "query_rewriter = ContextAwareQueryRewriter(classifier_model,doc_query2doc_model, tokenizer)\n",
    "\n",
    "# Rewrite the preprocessed queries\n",
    "rewritten_queries = query_rewriter.transform(original_queries)"
   ],
   "metadata": {
    "collapsed": false,
    "ExecuteTime": {
     "end_time": "2024-03-26T20:16:17.504786Z",
     "start_time": "2024-03-26T20:16:16.767810Z"
    }
   },
   "id": "35f27a036be565b2"
  },
  {
   "cell_type": "code",
   "execution_count": null,
   "outputs": [],
   "source": [
    "print(rewritten_queries)"
   ],
   "metadata": {
    "collapsed": false,
    "ExecuteTime": {
     "end_time": "2024-03-26T20:16:17.510791Z",
     "start_time": "2024-03-26T20:16:17.505479Z"
    }
   },
   "id": "b5dc4f5b256ac445"
  },
  {
   "cell_type": "markdown",
   "source": [
    "## Evaluating Rewritten vs. Original Queries with Doc MSMARCO Reranked Models\n",
    "\n",
    "### Objective\n",
    "\n",
    "The goal is to utilize the four doc_msmarco reranked models to compare the performance of rewritten queries against original queries.\n",
    "\n",
    "### Location of Reranked Models\n",
    "\n",
    "The reranked models are stored within the `doc_msmarco` directory, under the `model` folder. Here's the structure:\n",
    "\n",
    "```\n",
    "model/\n",
    "├── doc_baseline.ckpt\n",
    "├── doc_davinci_doc_context.ckpt\n",
    "└── wetransfer_model-1-doc2query-all-rankers_2024-03-21_1327/\n",
    "    ├── best_rank_list/\n",
    "    │   └── doc_msmarco/\n",
    "    │       ├── doc_attention_2_davinci_final_3e-4.tsv\n",
    "    │       ├── doc_davinci03_doc_context_400tok_5e-4.tsv\n",
    "    │       ├── doc_linear_2_davinci_final_1e-4.tsv\n",
    "    │       └── doc_query_2_doc_3e-4.tsv\n",
    "    └── doc_query2doc.ckpt\n",
    "```\n",
    "\n",
    "### Procedure\n",
    "\n",
    "1. **Retrieve Documents**: Initially, documents are fetched from the MS MARCO datasets for the purpose of reranking.\n",
    "\n",
    "2. **Reranking**: Utilize the retrieved documents along with the queries (both original and rewritten) to perform reranking using the models specified above.\n",
    "\n",
    "3. **Evaluation**: Assess the reranking process to determine the effectiveness of rewritten queries in comparison to the original ones."
   ],
   "metadata": {
    "collapsed": false
   },
   "id": "c0d73d15c5c715dc"
  },
  {
   "cell_type": "markdown",
   "source": [
    "### Step 1: Indexing the Corpus\n",
    "\n",
    "Before we can retrieve and rerank documents based on queries, we need to ensure that the documents are indexed. You've mentioned creating an index but commented out the relevant code. Here's how you can do it properly with Pyterrier"
   ],
   "metadata": {
    "collapsed": false
   },
   "id": "7454fc2217c8bf8f"
  },
  {
   "cell_type": "markdown",
   "source": [],
   "metadata": {
    "collapsed": false
   },
   "id": "fcc6b1fc0be71c91"
  },
  {
   "cell_type": "code",
   "execution_count": null,
   "outputs": [],
   "source": [
    "index_location = str(Path(\"index\").absolute())\n",
    "index_exists = os.path.isfile(os.path.join(index_location, \"data.properties\"))\n",
    "\n",
    "if not index_exists:\n",
    "    indexer = pt.IterDictIndexer(index_location)\n",
    "    index_ref = indexer.index(corpus_iter)\n",
    "    print(\"Indexing completed.\")\n",
    "else:\n",
    "    print(\"Index already exists, loading from disk.\")\n",
    "    index_ref = index_location"
   ],
   "metadata": {
    "collapsed": false,
    "ExecuteTime": {
     "start_time": "2024-03-26T20:16:17.507655Z"
    }
   },
   "id": "7f344426c854e676"
  },
  {
   "cell_type": "markdown",
   "source": [
    "### Step 2: Retrieving Documents\n",
    "\n",
    "You need to use the created index to retrieve documents based on both the original and rewritten queries. You have already outlined this step correctly, but make sure that `index` is correctly initialized using the `index_ref` from the indexing step:"
   ],
   "metadata": {
    "collapsed": false
   },
   "id": "4929c9c9679a10c1"
  },
  {
   "cell_type": "code",
   "execution_count": null,
   "outputs": [],
   "source": [
    "# Assuming original_queries and rewritten_queries are your lists of queries\n",
    "query_ids = range(1, len(original_queries) + 1)  # Generating query IDs\n",
    "\n",
    "# Converting original queries to a DataFrame\n",
    "original_queries_df = pd.DataFrame({\n",
    "    'qid': query_ids,\n",
    "    'query': original_queries\n",
    "})\n",
    "\n",
    "# Converting rewritten queries to a DataFrame\n",
    "rewritten_queries_df = pd.DataFrame({\n",
    "    'qid': query_ids,\n",
    "    'query': rewritten_queries\n",
    "})"
   ],
   "metadata": {
    "collapsed": false,
    "ExecuteTime": {
     "start_time": "2024-03-26T20:16:17.509352Z"
    }
   },
   "id": "d2a43b70db85b5f4"
  },
  {
   "cell_type": "code",
   "execution_count": null,
   "outputs": [],
   "source": [
    "# Initialize index from the created index reference\n",
    "index = pt.IndexFactory.of(index_ref)\n",
    "\n",
    "# Retrieve documents for both original and rewritten queries using BM25\n",
    "original_res = pt.BatchRetrieve(index, wmodel=\"BM25\").transform(original_queries_df)\n",
    "rewritten_res = pt.BatchRetrieve(index, wmodel=\"BM25\").transform(rewritten_queries_df)\n"
   ],
   "metadata": {
    "collapsed": false,
    "ExecuteTime": {
     "end_time": "2024-03-26T20:16:17.511087Z",
     "start_time": "2024-03-26T20:16:17.510977Z"
    }
   },
   "id": "a2efe3df97d3ff87"
  },
  {
   "cell_type": "markdown",
   "source": [
    "### Step 3: Reranking the Results\n",
    "\n",
    "After retrieving the initial set of documents for both the original and rewritten queries, the next step is to rerank these results. You've outlined the process, assuming you have a `reranker` defined. This reranker could be any model or method that takes a set of retrieved documents and reorders them based on relevance. Let's proceed with the assumption:"
   ],
   "metadata": {
    "collapsed": false
   },
   "id": "52572a40f2bada83"
  },
  {
   "cell_type": "code",
   "execution_count": null,
   "outputs": [],
   "source": [
    "# This is how an entry of .tsv looks like: 966413\tQ0\tD660657\t1\t5.271960258483887\tdoc_attention_davinci_2_final_3e-4\n",
    "\n",
    "# Example for loading one reranking file\n",
    "reranking_path = './model/wetransfer_model-1-doc2query-all-rankers_2024-03-21_1327/best_rank_list/doc_msmarco/doc_davinci03_doc_context_400tok_5e-4.tsv'\n",
    "\n",
    "reranking_df = pd.read_csv(\n",
    "    reranking_path,\n",
    "    sep='\\t',\n",
    "    header=None,\n",
    "    names=['qid', 'placeholder', 'docid', 'rank', 'score', 'identifier']\n",
    ")\n",
    "\n",
    "\n",
    "# Display the first few rows to understand its structure\n",
    "reranking_df.head()"
   ],
   "metadata": {
    "collapsed": false,
    "ExecuteTime": {
     "start_time": "2024-03-26T20:16:17.512590Z"
    }
   },
   "id": "d24fedb90364fcb0"
  },
  {
   "cell_type": "code",
   "execution_count": null,
   "outputs": [],
   "source": [
    "original_res.head()"
   ],
   "metadata": {
    "collapsed": false,
    "ExecuteTime": {
     "start_time": "2024-03-26T20:16:17.513737Z"
    }
   },
   "id": "21eaf62c30039098"
  },
  {
   "cell_type": "code",
   "execution_count": null,
   "outputs": [],
   "source": [
    "print(original_res)\n"
   ],
   "metadata": {
    "collapsed": false,
    "ExecuteTime": {
     "start_time": "2024-03-26T20:16:17.514977Z"
    }
   },
   "id": "795a0941d6a82fe8"
  },
  {
   "cell_type": "code",
   "execution_count": null,
   "outputs": [],
   "source": [
    "# Convert 'docid' to string in both your results and reranking DataFrame\n",
    "original_res['docid'] = original_res['docid'].astype(str)\n",
    "rewritten_res['docid'] = rewritten_res['docid'].astype(str)\n",
    "reranking_df['docid'] = reranking_df['docid'].astype(str)  # Assuming this column actually refers to 'docid' as discussed\n",
    "\n",
    "# Merging with corrected data types\n",
    "original_res_with_ranks = pd.merge(\n",
    "    original_res,\n",
    "    reranking_df,\n",
    "    on='docid',\n",
    "    how='left',\n",
    "    suffixes=('', '_reranked')\n",
    ")\n",
    "\n",
    "rewritten_res_with_ranks = pd.merge(\n",
    "    rewritten_res,\n",
    "    reranking_df,\n",
    "    on='docid',\n",
    "    how='left',\n",
    "    suffixes=('', '_reranked')\n",
    ")\n",
    "\n",
    "\n",
    "print(original_res_with_ranks.head)\n"
   ],
   "metadata": {
    "collapsed": false,
    "ExecuteTime": {
     "start_time": "2024-03-26T20:16:17.515736Z"
    }
   },
   "id": "a2c511cd539d7715"
  },
  {
   "cell_type": "markdown",
   "source": [
    "### Step 4: Evaluating the Results\n",
    "\n",
    "Finally, to evaluate the effectiveness of the rewritten queries versus the original queries, you'll use PyTerrier's evaluation functionalities. You need to compare the reranked results against the relevance judgments (`qrels`) using various metrics:"
   ],
   "metadata": {
    "collapsed": false
   },
   "id": "aeb837633b6194f3"
  },
  {
   "cell_type": "code",
   "execution_count": null,
   "outputs": [],
   "source": [
    "from pyterrier.measures import RR, nDCG, AP\n",
    "\n",
    "# Ensure your reranked DataFrames are named appropriately and structured correctly\n",
    "# They should have columns ['qid', 'docno', 'score']\n",
    "\n",
    "# Perform the evaluation using PyTerrier's Experiment function\n",
    "# results = pt.Experiment(\n",
    "#     [original_res_sorted, rewritten_res_sorted],\n",
    "#     topics,  # Your original queries DataFrame\n",
    "#     qrels,  # The qrels DataFrame with relevance judgments\n",
    "#     eval_metrics=[nDCG@10, AP(rel=10), RR(rel=10), nDCG@20],\n",
    "#     names=[\"Original Reranked\", \"Rewritten Reranked\"],\n",
    "#     baseline=0,  # Optionally specify which result set is considered the 'baseline' for comparison\n",
    "# )\n",
    "\n",
    "# Display the evaluation results\n",
    "print(results)\n"
   ],
   "metadata": {
    "collapsed": false,
    "ExecuteTime": {
     "start_time": "2024-03-26T20:16:17.516461Z"
    }
   },
   "id": "6d1c30176aea20aa"
  }
 ],
 "metadata": {
  "kernelspec": {
   "display_name": "Python 3 (ipykernel)",
   "language": "python",
   "name": "python3"
  },
  "language_info": {
   "codemirror_mode": {
    "name": "ipython",
    "version": 3
   },
   "file_extension": ".py",
   "mimetype": "text/x-python",
   "name": "python",
   "nbconvert_exporter": "python",
   "pygments_lexer": "ipython3",
   "version": "3.10.13"
  }
 },
 "nbformat": 4,
 "nbformat_minor": 5
}
