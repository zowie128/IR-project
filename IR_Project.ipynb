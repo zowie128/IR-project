{
 "cells": [
  {
   "cell_type": "code",
   "execution_count": 34,
   "id": "initial_id",
   "metadata": {
    "ExecuteTime": {
     "end_time": "2024-03-26T09:12:19.853960Z",
     "start_time": "2024-03-26T09:12:18.427528Z"
    },
    "collapsed": true,
    "jupyter": {
     "outputs_hidden": true
    }
   },
   "outputs": [
    {
     "name": "stdout",
     "output_type": "stream",
     "text": [
      "Requirement already satisfied: python-terrier in /Users/jasperbruin/anaconda3/envs/IR/lib/python3.10/site-packages (0.10.0)\r\n",
      "Requirement already satisfied: numpy in /Users/jasperbruin/anaconda3/envs/IR/lib/python3.10/site-packages (from python-terrier) (1.26.4)\r\n",
      "Requirement already satisfied: pandas in /Users/jasperbruin/anaconda3/envs/IR/lib/python3.10/site-packages (from python-terrier) (2.2.0)\r\n",
      "Requirement already satisfied: wget in /Users/jasperbruin/anaconda3/envs/IR/lib/python3.10/site-packages (from python-terrier) (3.2)\r\n",
      "Requirement already satisfied: tqdm in /Users/jasperbruin/anaconda3/envs/IR/lib/python3.10/site-packages (from python-terrier) (4.65.0)\r\n",
      "Requirement already satisfied: pyjnius>=1.4.2 in /Users/jasperbruin/anaconda3/envs/IR/lib/python3.10/site-packages (from python-terrier) (1.6.1)\r\n",
      "Requirement already satisfied: matchpy in /Users/jasperbruin/anaconda3/envs/IR/lib/python3.10/site-packages (from python-terrier) (0.5.5)\r\n",
      "Requirement already satisfied: scikit-learn in /Users/jasperbruin/anaconda3/envs/IR/lib/python3.10/site-packages (from python-terrier) (1.4.0)\r\n",
      "Requirement already satisfied: deprecated in /Users/jasperbruin/anaconda3/envs/IR/lib/python3.10/site-packages (from python-terrier) (1.2.14)\r\n",
      "Requirement already satisfied: chest in /Users/jasperbruin/anaconda3/envs/IR/lib/python3.10/site-packages (from python-terrier) (0.2.3)\r\n",
      "Requirement already satisfied: scipy in /Users/jasperbruin/anaconda3/envs/IR/lib/python3.10/site-packages (from python-terrier) (1.11.4)\r\n",
      "Requirement already satisfied: requests in /Users/jasperbruin/anaconda3/envs/IR/lib/python3.10/site-packages (from python-terrier) (2.31.0)\r\n",
      "Requirement already satisfied: joblib in /Users/jasperbruin/anaconda3/envs/IR/lib/python3.10/site-packages (from python-terrier) (1.3.2)\r\n",
      "Requirement already satisfied: nptyping==1.4.4 in /Users/jasperbruin/anaconda3/envs/IR/lib/python3.10/site-packages (from python-terrier) (1.4.4)\r\n",
      "Requirement already satisfied: more-itertools in /Users/jasperbruin/anaconda3/envs/IR/lib/python3.10/site-packages (from python-terrier) (10.2.0)\r\n",
      "Requirement already satisfied: ir-datasets>=0.3.2 in /Users/jasperbruin/anaconda3/envs/IR/lib/python3.10/site-packages (from python-terrier) (0.5.6)\r\n",
      "Requirement already satisfied: jinja2 in /Users/jasperbruin/anaconda3/envs/IR/lib/python3.10/site-packages (from python-terrier) (3.1.3)\r\n",
      "Requirement already satisfied: statsmodels in /Users/jasperbruin/anaconda3/envs/IR/lib/python3.10/site-packages (from python-terrier) (0.14.1)\r\n",
      "Requirement already satisfied: ir-measures>=0.3.1 in /Users/jasperbruin/anaconda3/envs/IR/lib/python3.10/site-packages (from python-terrier) (0.3.3)\r\n",
      "Requirement already satisfied: dill in /Users/jasperbruin/anaconda3/envs/IR/lib/python3.10/site-packages (from python-terrier) (0.3.8)\r\n",
      "Requirement already satisfied: pytrec-eval-terrier>=0.5.3 in /Users/jasperbruin/anaconda3/envs/IR/lib/python3.10/site-packages (from python-terrier) (0.5.6)\r\n",
      "Requirement already satisfied: typish>=1.7.0 in /Users/jasperbruin/anaconda3/envs/IR/lib/python3.10/site-packages (from nptyping==1.4.4->python-terrier) (1.9.3)\r\n",
      "Requirement already satisfied: beautifulsoup4>=4.4.1 in /Users/jasperbruin/anaconda3/envs/IR/lib/python3.10/site-packages (from ir-datasets>=0.3.2->python-terrier) (4.12.2)\r\n",
      "Requirement already satisfied: inscriptis>=2.2.0 in /Users/jasperbruin/anaconda3/envs/IR/lib/python3.10/site-packages (from ir-datasets>=0.3.2->python-terrier) (2.4.0.1)\r\n",
      "Requirement already satisfied: lxml>=4.5.2 in /Users/jasperbruin/anaconda3/envs/IR/lib/python3.10/site-packages (from ir-datasets>=0.3.2->python-terrier) (5.1.0)\r\n",
      "Requirement already satisfied: pyyaml>=5.3.1 in /Users/jasperbruin/anaconda3/envs/IR/lib/python3.10/site-packages (from ir-datasets>=0.3.2->python-terrier) (6.0.1)\r\n",
      "Requirement already satisfied: trec-car-tools>=2.5.4 in /Users/jasperbruin/anaconda3/envs/IR/lib/python3.10/site-packages (from ir-datasets>=0.3.2->python-terrier) (2.6)\r\n",
      "Requirement already satisfied: lz4>=3.1.10 in /Users/jasperbruin/anaconda3/envs/IR/lib/python3.10/site-packages (from ir-datasets>=0.3.2->python-terrier) (4.3.3)\r\n",
      "Requirement already satisfied: warc3-wet>=0.2.3 in /Users/jasperbruin/anaconda3/envs/IR/lib/python3.10/site-packages (from ir-datasets>=0.3.2->python-terrier) (0.2.3)\r\n",
      "Requirement already satisfied: warc3-wet-clueweb09>=0.2.5 in /Users/jasperbruin/anaconda3/envs/IR/lib/python3.10/site-packages (from ir-datasets>=0.3.2->python-terrier) (0.2.5)\r\n",
      "Requirement already satisfied: zlib-state>=0.1.3 in /Users/jasperbruin/anaconda3/envs/IR/lib/python3.10/site-packages (from ir-datasets>=0.3.2->python-terrier) (0.1.6)\r\n",
      "Requirement already satisfied: ijson>=3.1.3 in /Users/jasperbruin/anaconda3/envs/IR/lib/python3.10/site-packages (from ir-datasets>=0.3.2->python-terrier) (3.2.3)\r\n",
      "Requirement already satisfied: pyautocorpus>=0.1.1 in /Users/jasperbruin/anaconda3/envs/IR/lib/python3.10/site-packages (from ir-datasets>=0.3.2->python-terrier) (0.1.12)\r\n",
      "Requirement already satisfied: unlzw3>=0.2.1 in /Users/jasperbruin/anaconda3/envs/IR/lib/python3.10/site-packages (from ir-datasets>=0.3.2->python-terrier) (0.2.2)\r\n",
      "Requirement already satisfied: cwl-eval>=1.0.10 in /Users/jasperbruin/anaconda3/envs/IR/lib/python3.10/site-packages (from ir-measures>=0.3.1->python-terrier) (1.0.12)\r\n",
      "Requirement already satisfied: charset-normalizer<4,>=2 in /Users/jasperbruin/anaconda3/envs/IR/lib/python3.10/site-packages (from requests->python-terrier) (2.0.4)\r\n",
      "Requirement already satisfied: idna<4,>=2.5 in /Users/jasperbruin/anaconda3/envs/IR/lib/python3.10/site-packages (from requests->python-terrier) (3.4)\r\n",
      "Requirement already satisfied: urllib3<3,>=1.21.1 in /Users/jasperbruin/anaconda3/envs/IR/lib/python3.10/site-packages (from requests->python-terrier) (2.1.0)\r\n",
      "Requirement already satisfied: certifi>=2017.4.17 in /Users/jasperbruin/anaconda3/envs/IR/lib/python3.10/site-packages (from requests->python-terrier) (2024.2.2)\r\n",
      "Requirement already satisfied: heapdict in /Users/jasperbruin/anaconda3/envs/IR/lib/python3.10/site-packages (from chest->python-terrier) (1.0.1)\r\n",
      "Requirement already satisfied: wrapt<2,>=1.10 in /Users/jasperbruin/anaconda3/envs/IR/lib/python3.10/site-packages (from deprecated->python-terrier) (1.14.1)\r\n",
      "Requirement already satisfied: MarkupSafe>=2.0 in /Users/jasperbruin/anaconda3/envs/IR/lib/python3.10/site-packages (from jinja2->python-terrier) (2.1.3)\r\n",
      "Requirement already satisfied: multiset<3.0,>=2.0 in /Users/jasperbruin/anaconda3/envs/IR/lib/python3.10/site-packages (from matchpy->python-terrier) (2.1.1)\r\n",
      "Requirement already satisfied: python-dateutil>=2.8.2 in /Users/jasperbruin/anaconda3/envs/IR/lib/python3.10/site-packages (from pandas->python-terrier) (2.8.2)\r\n",
      "Requirement already satisfied: pytz>=2020.1 in /Users/jasperbruin/anaconda3/envs/IR/lib/python3.10/site-packages (from pandas->python-terrier) (2023.3.post1)\r\n",
      "Requirement already satisfied: tzdata>=2022.7 in /Users/jasperbruin/anaconda3/envs/IR/lib/python3.10/site-packages (from pandas->python-terrier) (2024.1)\r\n",
      "Requirement already satisfied: threadpoolctl>=2.0.0 in /Users/jasperbruin/anaconda3/envs/IR/lib/python3.10/site-packages (from scikit-learn->python-terrier) (3.3.0)\r\n",
      "Requirement already satisfied: patsy>=0.5.4 in /Users/jasperbruin/anaconda3/envs/IR/lib/python3.10/site-packages (from statsmodels->python-terrier) (0.5.6)\r\n",
      "Requirement already satisfied: packaging>=21.3 in /Users/jasperbruin/anaconda3/envs/IR/lib/python3.10/site-packages (from statsmodels->python-terrier) (23.1)\r\n",
      "Requirement already satisfied: soupsieve>1.2 in /Users/jasperbruin/anaconda3/envs/IR/lib/python3.10/site-packages (from beautifulsoup4>=4.4.1->ir-datasets>=0.3.2->python-terrier) (2.5)\r\n",
      "Requirement already satisfied: six in /Users/jasperbruin/anaconda3/envs/IR/lib/python3.10/site-packages (from patsy>=0.5.4->statsmodels->python-terrier) (1.16.0)\r\n",
      "Requirement already satisfied: cbor>=1.0.0 in /Users/jasperbruin/anaconda3/envs/IR/lib/python3.10/site-packages (from trec-car-tools>=2.5.4->ir-datasets>=0.3.2->python-terrier) (1.0.0)\r\n"
     ]
    }
   ],
   "source": [
    "!pip install python-terrier\n",
    "import pyterrier as pt\n",
    "if not pt.started():\n",
    "    pt.init()\n",
    "\n",
    "from transformers import BertModel\n",
    "import torch\n",
    "import torch.nn as nn"
   ]
  },
  {
   "cell_type": "code",
   "execution_count": 35,
   "id": "c2d27d527d1cec7a",
   "metadata": {
    "ExecuteTime": {
     "end_time": "2024-03-26T09:12:21.503772Z",
     "start_time": "2024-03-26T09:12:19.854523Z"
    },
    "collapsed": false
   },
   "outputs": [
    {
     "data": {
      "text/plain": [
       "BertClassifier(\n",
       "  (bert): BertModel(\n",
       "    (embeddings): BertEmbeddings(\n",
       "      (word_embeddings): Embedding(30522, 768, padding_idx=0)\n",
       "      (position_embeddings): Embedding(512, 768)\n",
       "      (token_type_embeddings): Embedding(2, 768)\n",
       "      (LayerNorm): LayerNorm((768,), eps=1e-12, elementwise_affine=True)\n",
       "      (dropout): Dropout(p=0.1, inplace=False)\n",
       "    )\n",
       "    (encoder): BertEncoder(\n",
       "      (layer): ModuleList(\n",
       "        (0-11): 12 x BertLayer(\n",
       "          (attention): BertAttention(\n",
       "            (self): BertSelfAttention(\n",
       "              (query): Linear(in_features=768, out_features=768, bias=True)\n",
       "              (key): Linear(in_features=768, out_features=768, bias=True)\n",
       "              (value): Linear(in_features=768, out_features=768, bias=True)\n",
       "              (dropout): Dropout(p=0.1, inplace=False)\n",
       "            )\n",
       "            (output): BertSelfOutput(\n",
       "              (dense): Linear(in_features=768, out_features=768, bias=True)\n",
       "              (LayerNorm): LayerNorm((768,), eps=1e-12, elementwise_affine=True)\n",
       "              (dropout): Dropout(p=0.1, inplace=False)\n",
       "            )\n",
       "          )\n",
       "          (intermediate): BertIntermediate(\n",
       "            (dense): Linear(in_features=768, out_features=3072, bias=True)\n",
       "            (intermediate_act_fn): GELUActivation()\n",
       "          )\n",
       "          (output): BertOutput(\n",
       "            (dense): Linear(in_features=3072, out_features=768, bias=True)\n",
       "            (LayerNorm): LayerNorm((768,), eps=1e-12, elementwise_affine=True)\n",
       "            (dropout): Dropout(p=0.1, inplace=False)\n",
       "          )\n",
       "        )\n",
       "      )\n",
       "    )\n",
       "    (pooler): BertPooler(\n",
       "      (dense): Linear(in_features=768, out_features=768, bias=True)\n",
       "      (activation): Tanh()\n",
       "    )\n",
       "  )\n",
       "  (classification): Linear(in_features=768, out_features=2, bias=True)\n",
       ")"
      ]
     },
     "execution_count": 35,
     "metadata": {},
     "output_type": "execute_result"
    }
   ],
   "source": [
    "class BertClassifier(nn.Module):\n",
    "    def __init__(self, num_labels=2):\n",
    "        super(BertClassifier, self).__init__()\n",
    "        self.bert = BertModel.from_pretrained('bert-base-uncased')\n",
    "        # Align the layer names with the checkpoint\n",
    "        self.classification = nn.Linear(768, num_labels)\n",
    "\n",
    "    def forward(self, input_ids, attention_mask=None, token_type_ids=None):\n",
    "        outputs = self.bert(input_ids=input_ids, attention_mask=attention_mask, token_type_ids=token_type_ids)\n",
    "        pooled_output = outputs.pooler_output\n",
    "        logits = self.classification(pooled_output)\n",
    "        return logits\n",
    "\n",
    "# Initialize the model\n",
    "model = BertClassifier()\n",
    "\n",
    "# Load the checkpoint\n",
    "model_path = './model/doc_baseline.ckpt'\n",
    "checkpoint = torch.load(model_path, map_location=torch.device('cpu'))\n",
    "\n",
    "# Extract the state_dict, assuming the state dict is saved under 'state_dict'\n",
    "model_state_dict = checkpoint['state_dict']\n",
    "\n",
    "# Adjust keys in the state_dict as needed\n",
    "adjusted_model_state_dict = {}\n",
    "for key, value in model_state_dict.items():\n",
    "    # Remove the 'model.' prefix and handle the 'classifier' to 'classification' naming difference\n",
    "    new_key = key.replace('model.', '').replace('classification', 'classifier')\n",
    "    if 'position_ids' not in new_key:  # Ignore 'bert.embeddings.position_ids'\n",
    "        adjusted_model_state_dict[new_key] = value\n",
    "\n",
    "# Load the adjusted state dict\n",
    "model.load_state_dict(adjusted_model_state_dict, strict=False)\n",
    "model.eval()  # Set the model to evaluation mode\n"
   ]
  },
  {
   "cell_type": "code",
   "execution_count": 36,
   "id": "158b0090a11a4d9d",
   "metadata": {
    "ExecuteTime": {
     "end_time": "2024-03-26T09:12:21.508777Z",
     "start_time": "2024-03-26T09:12:21.506045Z"
    },
    "collapsed": false
   },
   "outputs": [],
   "source": [
    "class QueryRewriter(pt.transformer.TransformerBase):\n",
    "    def __init__(self, model, tokenizer):\n",
    "        super(QueryRewriter, self).__init__()\n",
    "        self.model = model\n",
    "        self.tokenizer = tokenizer\n",
    "\n",
    "    def transform(self, queries):\n",
    "        rewritten_queries = []\n",
    "        for query in queries:\n",
    "            # Tokenize the query\n",
    "            inputs = self.tokenizer.encode_plus(query, return_tensors=\"pt\", padding=True, truncation=True, max_length=512)\n",
    "            input_ids = inputs[\"input_ids\"]\n",
    "            attention_mask = inputs[\"attention_mask\"]\n",
    "\n",
    "            # Predict with the model\n",
    "            with torch.no_grad():\n",
    "                # Here we directly use the model's output\n",
    "                output = self.model(input_ids=input_ids, attention_mask=attention_mask)\n",
    "                logits = output\n",
    "\n",
    "                # Assuming your model's output is logits and you're doing classification\n",
    "                predictions = torch.argmax(logits, dim=-1)\n",
    "\n",
    "            # Assuming 1 signifies ambiguity and requires rewriting\n",
    "            if predictions.item() == 1:\n",
    "                rewritten_query = self.rewrite_query(query)\n",
    "            else:\n",
    "                rewritten_query = query\n",
    "\n",
    "            rewritten_queries.append(rewritten_query)\n",
    "\n",
    "        return rewritten_queries\n",
    "\n",
    "    def rewrite_query(self, query):\n",
    "        # TODO: This is a placeholder for the actual query rewriting logic\n",
    "        # I'm just simply appending something to indicate a rewrite\n",
    "        return query + \" (rewritten)\"\n"
   ]
  },
  {
   "cell_type": "code",
   "execution_count": 37,
   "id": "fcb31c1d03fbbe77",
   "metadata": {
    "ExecuteTime": {
     "end_time": "2024-03-26T09:12:22.003Z",
     "start_time": "2024-03-26T09:12:21.509411Z"
    },
    "collapsed": false
   },
   "outputs": [
    {
     "name": "stderr",
     "output_type": "stream",
     "text": [
      "/var/folders/_3/jggbxqpj77x_m8nr3ll39p5r0000gn/T/ipykernel_4473/1460675078.py:3: DeprecationWarning: Call to deprecated method __init__. (Use pt.Transformer instead of TransformerBase) -- Deprecated since version 0.9.\n",
      "  super(QueryRewriter, self).__init__()\n"
     ]
    }
   ],
   "source": [
    "from transformers import BertTokenizer\n",
    "\n",
    "# Initialize the tokenizer\n",
    "tokenizer = BertTokenizer.from_pretrained('bert-base-uncased')\n",
    "\n",
    "# Initialize the model (assuming you've already loaded your custom model)\n",
    "model = BertClassifier()\n",
    "model.eval()  # Ensure the model is in evaluation mode\n",
    "\n",
    "# Initialize the QueryRewriter with your model and tokenizer\n",
    "query_rewriter = QueryRewriter(model, tokenizer)\n"
   ]
  },
  {
   "cell_type": "code",
   "execution_count": 38,
   "id": "daa2f53380a698fe",
   "metadata": {
    "ExecuteTime": {
     "end_time": "2024-03-26T09:12:22.133788Z",
     "start_time": "2024-03-26T09:12:22.002150Z"
    },
    "collapsed": false
   },
   "outputs": [
    {
     "name": "stdout",
     "output_type": "stream",
     "text": [
      "Original: What's the weather like today?\n",
      "Rewritten: What's the weather like today?\n",
      "\n",
      "Original: Tell me about historical monuments.\n",
      "Rewritten: Tell me about historical monuments.\n",
      "\n",
      "Original: What are the symptoms of the flu?\n",
      "Rewritten: What are the symptoms of the flu?\n"
     ]
    }
   ],
   "source": [
    "# Sample queries\n",
    "queries = [\n",
    "    \"What's the weather like today?\",\n",
    "    \"Tell me about historical monuments.\",\n",
    "    \"What are the symptoms of the flu?\"\n",
    "]\n",
    "\n",
    "# Use the QueryRewriter to transform (rewrite) the queries\n",
    "rewritten_queries = query_rewriter.transform(queries)\n",
    "\n",
    "# Print the original and rewritten queries for comparison\n",
    "for original, rewritten in zip(queries, rewritten_queries):\n",
    "    print(f\"Original: {original}\\nRewritten: {rewritten}\\n\")\n"
   ]
  },
  {
   "cell_type": "code",
   "execution_count": 39,
   "id": "e2a60159dee40fef",
   "metadata": {
    "ExecuteTime": {
     "end_time": "2024-03-26T09:12:22.161692Z",
     "start_time": "2024-03-26T09:12:22.133961Z"
    },
    "collapsed": false
   },
   "outputs": [
    {
     "name": "stdout",
     "output_type": "stream",
     "text": [
      "<bound method NDFrame.head of                  qid  docid      rank  \\\n",
      "966413  Q0   D721816      1  5.391621   \n",
      "        Q0   D104404      2  5.362526   \n",
      "        Q0  D3547764      3  5.334213   \n",
      "        Q0   D160447      4  5.331561   \n",
      "        Q0   D147193      5  5.302257   \n",
      "...              ...    ...       ...   \n",
      "1108307 Q0  D2610362     96  1.231557   \n",
      "        Q0  D3309585     97  1.115268   \n",
      "        Q0  D1512095     98  0.114295   \n",
      "        Q0  D1663165     99 -0.648574   \n",
      "        Q0  D2135708    100 -2.481846   \n",
      "\n",
      "                                                        score  \n",
      "966413  Q0  msmarco_doc_davinci03_doc_context_1200_400tok_...  \n",
      "        Q0  msmarco_doc_davinci03_doc_context_1200_400tok_...  \n",
      "        Q0  msmarco_doc_davinci03_doc_context_1200_400tok_...  \n",
      "        Q0  msmarco_doc_davinci03_doc_context_1200_400tok_...  \n",
      "        Q0  msmarco_doc_davinci03_doc_context_1200_400tok_...  \n",
      "...                                                       ...  \n",
      "1108307 Q0  msmarco_doc_davinci03_doc_context_1200_400tok_...  \n",
      "        Q0  msmarco_doc_davinci03_doc_context_1200_400tok_...  \n",
      "        Q0  msmarco_doc_davinci03_doc_context_1200_400tok_...  \n",
      "        Q0  msmarco_doc_davinci03_doc_context_1200_400tok_...  \n",
      "        Q0  msmarco_doc_davinci03_doc_context_1200_400tok_...  \n",
      "\n",
      "[20000 rows x 4 columns]>\n"
     ]
    }
   ],
   "source": [
    "import pandas as pd\n",
    "\n",
    "rankings_path = './model/wetransfer_model-1-doc2query-all-rankers_2024-03-21_1327/best_rank_list/doc_msmarco/doc_davinci03_doc_context_400tok_5e-4.tsv'\n",
    "rankings = pd.read_csv(rankings_path, sep='\\t', header=None, names=['qid', 'docid', 'rank', 'score'])\n",
    "\n",
    "print(rankings.head)\n",
    "\n",
    "precomputed_ranker = pt.apply.generic(lambda df: rankings)"
   ]
  },
  {
   "cell_type": "code",
   "execution_count": 40,
   "id": "548944802f8e2f12",
   "metadata": {
    "ExecuteTime": {
     "end_time": "2024-03-26T09:12:22.288869Z",
     "start_time": "2024-03-26T09:12:22.156902Z"
    },
    "collapsed": false
   },
   "outputs": [
    {
     "name": "stderr",
     "output_type": "stream",
     "text": [
      "/var/folders/_3/jggbxqpj77x_m8nr3ll39p5r0000gn/T/ipykernel_4473/1460675078.py:3: DeprecationWarning: Call to deprecated method __init__. (Use pt.Transformer instead of TransformerBase) -- Deprecated since version 0.9.\n",
      "  super(QueryRewriter, self).__init__()\n"
     ]
    }
   ],
   "source": [
    "# Assuming your model is already initialized and set to evaluation mode as `model`\n",
    "# Initialize the QueryRewriter with your model and tokenizer\n",
    "query_rewriter = QueryRewriter(model, tokenizer)\n",
    "\n",
    "# Ensure the precomputed_ranker is correctly defined as before\n",
    "precomputed_ranker = pt.apply.generic(lambda df: rankings)\n",
    "\n",
    "# Now create the pipeline with the query_rewriter that already has the model and tokenizer\n",
    "pipeline = query_rewriter >> precomputed_ranker\n",
    "\n",
    "# Execute the search with the pipeline\n",
    "results = pipeline.search(\"your initial query\")"
   ]
  },
  {
   "cell_type": "code",
   "execution_count": 41,
   "id": "69ee3bbd0e814dd8",
   "metadata": {
    "ExecuteTime": {
     "end_time": "2024-03-26T09:12:22.294342Z",
     "start_time": "2024-03-26T09:12:22.290285Z"
    },
    "collapsed": false
   },
   "outputs": [
    {
     "name": "stdout",
     "output_type": "stream",
     "text": [
      "<bound method NDFrame.head of                  qid  docid      rank  \\\n",
      "1120868 Q0  D1000007     31  5.018914   \n",
      "156493  Q0  D1000170     77  4.205341   \n",
      "        Q0  D1000172     70  4.344245   \n",
      "        Q0  D1000173     21  4.870865   \n",
      "1104492 Q0  D1000501     35  1.614483   \n",
      "...              ...    ...       ...   \n",
      "1117387 Q0   D999412     94 -3.046582   \n",
      "451602  Q0   D999449     43  4.828393   \n",
      "1115392 Q0   D999450     67 -0.689782   \n",
      "1104031 Q0   D999643     44  2.001423   \n",
      "964223  Q0   D999926     17  4.770953   \n",
      "\n",
      "                                                        score  \n",
      "1120868 Q0  msmarco_doc_davinci03_doc_context_1200_400tok_...  \n",
      "156493  Q0  msmarco_doc_davinci03_doc_context_1200_400tok_...  \n",
      "        Q0  msmarco_doc_davinci03_doc_context_1200_400tok_...  \n",
      "        Q0  msmarco_doc_davinci03_doc_context_1200_400tok_...  \n",
      "1104492 Q0  msmarco_doc_davinci03_doc_context_1200_400tok_...  \n",
      "...                                                       ...  \n",
      "1117387 Q0  msmarco_doc_davinci03_doc_context_1200_400tok_...  \n",
      "451602  Q0  msmarco_doc_davinci03_doc_context_1200_400tok_...  \n",
      "1115392 Q0  msmarco_doc_davinci03_doc_context_1200_400tok_...  \n",
      "1104031 Q0  msmarco_doc_davinci03_doc_context_1200_400tok_...  \n",
      "964223  Q0  msmarco_doc_davinci03_doc_context_1200_400tok_...  \n",
      "\n",
      "[20000 rows x 4 columns]>\n"
     ]
    }
   ],
   "source": [
    "print(results.head)"
   ]
  },
  {
   "cell_type": "code",
   "execution_count": 41,
   "id": "a7daddccf72dfb6c",
   "metadata": {
    "ExecuteTime": {
     "end_time": "2024-03-26T09:12:22.297475Z",
     "start_time": "2024-03-26T09:12:22.292964Z"
    },
    "collapsed": false
   },
   "outputs": [],
   "source": []
  }
 ],
 "metadata": {
  "kernelspec": {
   "display_name": "Python 3 (ipykernel)",
   "language": "python",
   "name": "python3"
  },
  "language_info": {
   "codemirror_mode": {
    "name": "ipython",
    "version": 3
   },
   "file_extension": ".py",
   "mimetype": "text/x-python",
   "name": "python",
   "nbconvert_exporter": "python",
   "pygments_lexer": "ipython3",
   "version": "3.10.13"
  }
 },
 "nbformat": 4,
 "nbformat_minor": 5
}
